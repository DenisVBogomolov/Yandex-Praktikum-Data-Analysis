{
 "cells": [
  {
   "cell_type": "markdown",
   "metadata": {},
   "source": [
    "# Учебный проект \" Анализ пользовательского взаимодействия с карточками статей в Яндекс Дзен\". Создание дашборда"
   ]
  },
  {
   "cell_type": "markdown",
   "metadata": {},
   "source": [
    "> # Цели проекта:\n",
    "- Создание дашборда для анализа взаимодействия с карточками статей в сервисе Яндекс Дзен"
   ]
  },
  {
   "cell_type": "markdown",
   "metadata": {},
   "source": [
    "> # Задачи проекта:\n",
    "- Импортировать библиотеки\n",
    "- Провести коннекцию к базе данных\n",
    "- Сформировать sql-запрос\n",
    "- Проверить базу на наличие дубликатов и NaN\n",
    "- Преобразовать базу в .csv - файл\n",
    "- Создать дашборд на основе файла\n",
    "- Подготовить презентацию с выводами по работе\n"
   ]
  },
  {
   "cell_type": "code",
   "execution_count": 1,
   "metadata": {},
   "outputs": [],
   "source": [
    "# Импортируем библиотеки\n",
    "import pandas as pd\n",
    "from sqlalchemy import create_engine"
   ]
  },
  {
   "cell_type": "code",
   "execution_count": 2,
   "metadata": {},
   "outputs": [],
   "source": [
    "# Выполняем коннекцию к базе\n",
    "db_config = {'user': 'praktikum_student', # имя пользователя\n",
    "            'pwd': 'Sdf4$2;d-d30pp', # пароль\n",
    "            'host': 'rc1b-wcoijxj3yxfsf3fs.mdb.yandexcloud.net',\n",
    "            'port': 6432, # порт подключения\n",
    "            'db': 'data-analyst-zen-project-db'} # название базы данных\n",
    "\n",
    "connection_string = 'postgresql://{}:{}@{}:{}/{}'.format(db_config['user'],\n",
    "                                                db_config['pwd'],\n",
    "                                                db_config['host'],\n",
    "                                                db_config['port'],\n",
    "                                                db_config['db'])\n",
    "\n",
    "engine = create_engine(connection_string) "
   ]
  },
  {
   "cell_type": "code",
   "execution_count": 3,
   "metadata": {},
   "outputs": [],
   "source": [
    "# Выполняем sql-запрос\n",
    "query = ''' select * from dash_visits '''\n",
    "dash_visits  = pd.io.sql.read_sql(query, con = engine)"
   ]
  },
  {
   "cell_type": "code",
   "execution_count": 4,
   "metadata": {},
   "outputs": [],
   "source": [
    "# Используем функцию из предыдущих проектов для вывода info(), проверки дубликатов и NaN\n",
    "def info (dataframe):\n",
    "    print (dataframe.info())\n",
    "    print()\n",
    "    print ('Количество duplicates:',dataframe.duplicated().sum())\n",
    "    print()\n",
    "    print('Количество NaN:')\n",
    "    print(dataframe.isnull().sum())"
   ]
  },
  {
   "cell_type": "code",
   "execution_count": 5,
   "metadata": {},
   "outputs": [
    {
     "name": "stdout",
     "output_type": "stream",
     "text": [
      "<class 'pandas.core.frame.DataFrame'>\n",
      "RangeIndex: 30745 entries, 0 to 30744\n",
      "Data columns (total 6 columns):\n",
      " #   Column        Non-Null Count  Dtype         \n",
      "---  ------        --------------  -----         \n",
      " 0   record_id     30745 non-null  int64         \n",
      " 1   item_topic    30745 non-null  object        \n",
      " 2   source_topic  30745 non-null  object        \n",
      " 3   age_segment   30745 non-null  object        \n",
      " 4   dt            30745 non-null  datetime64[ns]\n",
      " 5   visits        30745 non-null  int64         \n",
      "dtypes: datetime64[ns](1), int64(2), object(3)\n",
      "memory usage: 1.4+ MB\n",
      "None\n",
      "\n",
      "Количество duplicates: 0\n",
      "\n",
      "Количество NaN:\n",
      "record_id       0\n",
      "item_topic      0\n",
      "source_topic    0\n",
      "age_segment     0\n",
      "dt              0\n",
      "visits          0\n",
      "dtype: int64\n"
     ]
    }
   ],
   "source": [
    "# Выполняем функцию\n",
    "info(dash_visits)"
   ]
  },
  {
   "cell_type": "markdown",
   "metadata": {},
   "source": [
    "Дубликатов и NaN нет, датафрейм не требует предобработки."
   ]
  },
  {
   "cell_type": "code",
   "execution_count": 6,
   "metadata": {},
   "outputs": [
    {
     "data": {
      "text/html": [
       "<div>\n",
       "<style scoped>\n",
       "    .dataframe tbody tr th:only-of-type {\n",
       "        vertical-align: middle;\n",
       "    }\n",
       "\n",
       "    .dataframe tbody tr th {\n",
       "        vertical-align: top;\n",
       "    }\n",
       "\n",
       "    .dataframe thead th {\n",
       "        text-align: right;\n",
       "    }\n",
       "</style>\n",
       "<table border=\"1\" class=\"dataframe\">\n",
       "  <thead>\n",
       "    <tr style=\"text-align: right;\">\n",
       "      <th></th>\n",
       "      <th>record_id</th>\n",
       "      <th>item_topic</th>\n",
       "      <th>source_topic</th>\n",
       "      <th>age_segment</th>\n",
       "      <th>dt</th>\n",
       "      <th>visits</th>\n",
       "    </tr>\n",
       "  </thead>\n",
       "  <tbody>\n",
       "    <tr>\n",
       "      <th>26155</th>\n",
       "      <td>1066752</td>\n",
       "      <td>Семья</td>\n",
       "      <td>Ремонт</td>\n",
       "      <td>26-30</td>\n",
       "      <td>2019-09-24 18:33:00</td>\n",
       "      <td>1</td>\n",
       "    </tr>\n",
       "    <tr>\n",
       "      <th>1666</th>\n",
       "      <td>1042263</td>\n",
       "      <td>Дети</td>\n",
       "      <td>История</td>\n",
       "      <td>26-30</td>\n",
       "      <td>2019-09-24 18:58:00</td>\n",
       "      <td>13</td>\n",
       "    </tr>\n",
       "    <tr>\n",
       "      <th>20851</th>\n",
       "      <td>1061448</td>\n",
       "      <td>Психология</td>\n",
       "      <td>История</td>\n",
       "      <td>26-30</td>\n",
       "      <td>2019-09-24 18:58:00</td>\n",
       "      <td>7</td>\n",
       "    </tr>\n",
       "    <tr>\n",
       "      <th>1409</th>\n",
       "      <td>1042006</td>\n",
       "      <td>Дети</td>\n",
       "      <td>Еда</td>\n",
       "      <td>26-30</td>\n",
       "      <td>2019-09-24 19:00:00</td>\n",
       "      <td>9</td>\n",
       "    </tr>\n",
       "    <tr>\n",
       "      <th>25495</th>\n",
       "      <td>1066092</td>\n",
       "      <td>Семья</td>\n",
       "      <td>Еда</td>\n",
       "      <td>41-45</td>\n",
       "      <td>2019-09-24 18:54:00</td>\n",
       "      <td>4</td>\n",
       "    </tr>\n",
       "    <tr>\n",
       "      <th>26277</th>\n",
       "      <td>1066874</td>\n",
       "      <td>Семья</td>\n",
       "      <td>Сад и дача</td>\n",
       "      <td>31-35</td>\n",
       "      <td>2019-09-24 18:53:00</td>\n",
       "      <td>1</td>\n",
       "    </tr>\n",
       "    <tr>\n",
       "      <th>21576</th>\n",
       "      <td>1062173</td>\n",
       "      <td>Путешествия</td>\n",
       "      <td>Авто</td>\n",
       "      <td>26-30</td>\n",
       "      <td>2019-09-24 19:00:00</td>\n",
       "      <td>5</td>\n",
       "    </tr>\n",
       "    <tr>\n",
       "      <th>26640</th>\n",
       "      <td>1067237</td>\n",
       "      <td>Скандалы</td>\n",
       "      <td>Дети</td>\n",
       "      <td>26-30</td>\n",
       "      <td>2019-09-24 18:55:00</td>\n",
       "      <td>10</td>\n",
       "    </tr>\n",
       "    <tr>\n",
       "      <th>18896</th>\n",
       "      <td>1059493</td>\n",
       "      <td>Подборки</td>\n",
       "      <td>Семья</td>\n",
       "      <td>45+</td>\n",
       "      <td>2019-09-24 18:58:00</td>\n",
       "      <td>1</td>\n",
       "    </tr>\n",
       "    <tr>\n",
       "      <th>20526</th>\n",
       "      <td>1061123</td>\n",
       "      <td>Психология</td>\n",
       "      <td>Деньги</td>\n",
       "      <td>26-30</td>\n",
       "      <td>2019-09-24 18:56:00</td>\n",
       "      <td>2</td>\n",
       "    </tr>\n",
       "  </tbody>\n",
       "</table>\n",
       "</div>"
      ],
      "text/plain": [
       "       record_id   item_topic source_topic age_segment                  dt  \\\n",
       "26155    1066752        Семья       Ремонт       26-30 2019-09-24 18:33:00   \n",
       "1666     1042263         Дети      История       26-30 2019-09-24 18:58:00   \n",
       "20851    1061448   Психология      История       26-30 2019-09-24 18:58:00   \n",
       "1409     1042006         Дети          Еда       26-30 2019-09-24 19:00:00   \n",
       "25495    1066092        Семья          Еда       41-45 2019-09-24 18:54:00   \n",
       "26277    1066874        Семья   Сад и дача       31-35 2019-09-24 18:53:00   \n",
       "21576    1062173  Путешествия         Авто       26-30 2019-09-24 19:00:00   \n",
       "26640    1067237     Скандалы         Дети       26-30 2019-09-24 18:55:00   \n",
       "18896    1059493     Подборки        Семья         45+ 2019-09-24 18:58:00   \n",
       "20526    1061123   Психология       Деньги       26-30 2019-09-24 18:56:00   \n",
       "\n",
       "       visits  \n",
       "26155       1  \n",
       "1666       13  \n",
       "20851       7  \n",
       "1409        9  \n",
       "25495       4  \n",
       "26277       1  \n",
       "21576       5  \n",
       "26640      10  \n",
       "18896       1  \n",
       "20526       2  "
      ]
     },
     "execution_count": 6,
     "metadata": {},
     "output_type": "execute_result"
    }
   ],
   "source": [
    "# Открываем датафрейм\n",
    "dash_visits.sample(10)"
   ]
  },
  {
   "cell_type": "code",
   "execution_count": 7,
   "metadata": {},
   "outputs": [],
   "source": [
    "# Преобразовываем в файл .csv и сохраняем в локальной папке\n",
    "dash_visits.to_csv('~/Documents/Data_Analysis/dash_visits.csv')"
   ]
  },
  {
   "cell_type": "markdown",
   "metadata": {},
   "source": [
    "Файл dash_visits.csv сохранен в локальной папке. Приступаем к созданию дашборда на его основе."
   ]
  },
  {
   "cell_type": "markdown",
   "metadata": {},
   "source": [
    "- Ссылка на дашборд (проверено на Safari, Google Chrome и Yandex браузере): https://public.tableau.com/app/profile/denis2814/viz/YP_zen_final/YP_zen\n",
    "- <b>ВНИМАНИЕ! Если ссылка загружается слишком долго, нужно нажать фото в правом верхнем углу, выбрать \"My Profile\" и кликнуть на YP_zen_final.</b>\n",
    "\n",
    "- Ссылка на презентацию в Яндекс Disk: https://disk.yandex.ru/i/6wd-S24fYBR06Q"
   ]
  },
  {
   "cell_type": "code",
   "execution_count": null,
   "metadata": {},
   "outputs": [],
   "source": []
  }
 ],
 "metadata": {
  "kernelspec": {
   "display_name": "Python 3",
   "language": "python",
   "name": "python3"
  },
  "language_info": {
   "codemirror_mode": {
    "name": "ipython",
    "version": 3
   },
   "file_extension": ".py",
   "mimetype": "text/x-python",
   "name": "python",
   "nbconvert_exporter": "python",
   "pygments_lexer": "ipython3",
   "version": "3.8.5"
  }
 },
 "nbformat": 4,
 "nbformat_minor": 4
}
