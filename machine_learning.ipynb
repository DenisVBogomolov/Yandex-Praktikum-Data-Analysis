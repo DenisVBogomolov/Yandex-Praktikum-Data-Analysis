{
 "cells": [
  {
   "cell_type": "markdown",
   "metadata": {},
   "source": [
    "# Учебный проект: \"Разработка стратегии взаимодействия с клиентами на основе алгоритмов machine learning\""
   ]
  },
  {
   "cell_type": "markdown",
   "metadata": {},
   "source": [
    "> # Цель:\n",
    "- Проведение анализа при помощи алгоритмов машинного обучения и подготовка плана по действий по удержанию клиентов"
   ]
  },
  {
   "cell_type": "markdown",
   "metadata": {},
   "source": [
    "> # Задачи:\n",
    "- Импортировать необходимые библиотеки,\n",
    "- Импортировать и прочитать датасет,\n",
    "- Провести предобработку датасета и исследовательский анализ данных (EDA),\n",
    "- Сформулировать промежуточные выводы,\n",
    "- Построить модель прогнозирования оттока клиентов,\n",
    "- Сформулировать промежуточные выводы,\n",
    "- Сформировать кластеризацию клиентов,\n",
    "- Сформулировать промежуточные выводы,\n",
    "- Сформулировать общие выводы и выдвинуть базовые рекомендации по работе с клиентами"
   ]
  },
  {
   "cell_type": "markdown",
   "metadata": {},
   "source": [
    "# Оглавление:\n",
    "- <a id='1'>Импорт библиотек</a>\n",
    "- <a id='4'>Вывод результатов импорта</a>\n",
    "- <a id='8'>Вывод функции для проверки дубликатов и пропусков</a>\n",
    "- <a id='9'>Применение метода .describe()</a>\n",
    "- <a id='10'>Исследование средних значений в группах</a>\n",
    "- <a id='13'>Вывод гистограмм \"Распределение признаков\"</a>\n",
    "- <a id='14'>Вывод матрицы корреляции</a>\n",
    "- <a id='15'>Промежуточные выводы</a>\n",
    "- <a id='15'>Формирование модели прогнозирования оттока клиентов</a>\n",
    "- <a id='22'>Промежуточные выводы</a>\n",
    "- <a id='26'>Формирование кластеров клиентов</a>\n",
    "- <a id='31'>Вывод гистограмм \"Распределение признаков по кластерам\"</a>\n",
    "- <a id='32'>Рассчет доли оттока по кластерам</a>\n",
    "- <a id='32'>Промежуточные выводы</a>\n",
    "- <a id='32'>Общие выводы. Рекомендации</a>"
   ]
  },
  {
   "cell_type": "markdown",
   "metadata": {},
   "source": [
    "____"
   ]
  },
  {
   "cell_type": "markdown",
   "metadata": {},
   "source": [
    "## Импорт библиотек. Исследовательский анализ данных"
   ]
  },
  {
   "cell_type": "code",
   "execution_count": 1,
   "metadata": {},
   "outputs": [],
   "source": [
    "# Импортируем библиотеки\n",
    "import pandas as pd\n",
    "import seaborn as sns\n",
    "import matplotlib.pyplot as plt\n",
    "import numpy as np\n",
    "from sklearn.model_selection import train_test_split\n",
    "from sklearn.linear_model import LogisticRegression\n",
    "from sklearn.ensemble import RandomForestClassifier\n",
    "from sklearn.preprocessing import StandardScaler\n",
    "from sklearn.metrics import accuracy_score, precision_score, recall_score, f1_score\n",
    "from scipy.cluster.hierarchy import dendrogram, linkage\n",
    "from sklearn.cluster import KMeans\n",
    "import warnings"
   ]
  },
  {
   "cell_type": "code",
   "execution_count": 2,
   "metadata": {},
   "outputs": [],
   "source": [
    "# По старой доброй традиции заранее избавляемся от возможных предупреждений\n",
    "warnings.filterwarnings('ignore')"
   ]
  },
  {
   "cell_type": "code",
   "execution_count": 3,
   "metadata": {},
   "outputs": [],
   "source": [
    "# Импортируем датасет\n",
    "df = pd.read_csv('/Users/denisbogomolov/Documents/Data_Analysis/gym_churn.csv')"
   ]
  },
  {
   "cell_type": "code",
   "execution_count": 4,
   "metadata": {},
   "outputs": [
    {
     "data": {
      "text/html": [
       "<div>\n",
       "<style scoped>\n",
       "    .dataframe tbody tr th:only-of-type {\n",
       "        vertical-align: middle;\n",
       "    }\n",
       "\n",
       "    .dataframe tbody tr th {\n",
       "        vertical-align: top;\n",
       "    }\n",
       "\n",
       "    .dataframe thead th {\n",
       "        text-align: right;\n",
       "    }\n",
       "</style>\n",
       "<table border=\"1\" class=\"dataframe\">\n",
       "  <thead>\n",
       "    <tr style=\"text-align: right;\">\n",
       "      <th></th>\n",
       "      <th>gender</th>\n",
       "      <th>Near_Location</th>\n",
       "      <th>Partner</th>\n",
       "      <th>Promo_friends</th>\n",
       "      <th>Phone</th>\n",
       "      <th>Contract_period</th>\n",
       "      <th>Group_visits</th>\n",
       "      <th>Age</th>\n",
       "      <th>Avg_additional_charges_total</th>\n",
       "      <th>Month_to_end_contract</th>\n",
       "      <th>Lifetime</th>\n",
       "      <th>Avg_class_frequency_total</th>\n",
       "      <th>Avg_class_frequency_current_month</th>\n",
       "      <th>Churn</th>\n",
       "    </tr>\n",
       "  </thead>\n",
       "  <tbody>\n",
       "    <tr>\n",
       "      <th>2288</th>\n",
       "      <td>0</td>\n",
       "      <td>1</td>\n",
       "      <td>0</td>\n",
       "      <td>0</td>\n",
       "      <td>1</td>\n",
       "      <td>6</td>\n",
       "      <td>1</td>\n",
       "      <td>30</td>\n",
       "      <td>41.646801</td>\n",
       "      <td>5.0</td>\n",
       "      <td>2</td>\n",
       "      <td>1.936667</td>\n",
       "      <td>0.558111</td>\n",
       "      <td>1</td>\n",
       "    </tr>\n",
       "    <tr>\n",
       "      <th>3302</th>\n",
       "      <td>1</td>\n",
       "      <td>1</td>\n",
       "      <td>1</td>\n",
       "      <td>1</td>\n",
       "      <td>1</td>\n",
       "      <td>12</td>\n",
       "      <td>0</td>\n",
       "      <td>32</td>\n",
       "      <td>143.585107</td>\n",
       "      <td>8.0</td>\n",
       "      <td>5</td>\n",
       "      <td>0.629896</td>\n",
       "      <td>0.682816</td>\n",
       "      <td>0</td>\n",
       "    </tr>\n",
       "    <tr>\n",
       "      <th>892</th>\n",
       "      <td>0</td>\n",
       "      <td>1</td>\n",
       "      <td>1</td>\n",
       "      <td>1</td>\n",
       "      <td>0</td>\n",
       "      <td>12</td>\n",
       "      <td>1</td>\n",
       "      <td>31</td>\n",
       "      <td>47.107327</td>\n",
       "      <td>11.0</td>\n",
       "      <td>1</td>\n",
       "      <td>1.567930</td>\n",
       "      <td>1.729095</td>\n",
       "      <td>0</td>\n",
       "    </tr>\n",
       "    <tr>\n",
       "      <th>2858</th>\n",
       "      <td>1</td>\n",
       "      <td>1</td>\n",
       "      <td>1</td>\n",
       "      <td>1</td>\n",
       "      <td>1</td>\n",
       "      <td>6</td>\n",
       "      <td>0</td>\n",
       "      <td>26</td>\n",
       "      <td>241.885956</td>\n",
       "      <td>4.0</td>\n",
       "      <td>3</td>\n",
       "      <td>1.477087</td>\n",
       "      <td>1.552703</td>\n",
       "      <td>0</td>\n",
       "    </tr>\n",
       "    <tr>\n",
       "      <th>1903</th>\n",
       "      <td>0</td>\n",
       "      <td>1</td>\n",
       "      <td>1</td>\n",
       "      <td>1</td>\n",
       "      <td>1</td>\n",
       "      <td>12</td>\n",
       "      <td>1</td>\n",
       "      <td>30</td>\n",
       "      <td>195.563280</td>\n",
       "      <td>12.0</td>\n",
       "      <td>4</td>\n",
       "      <td>1.830852</td>\n",
       "      <td>2.016738</td>\n",
       "      <td>0</td>\n",
       "    </tr>\n",
       "    <tr>\n",
       "      <th>1849</th>\n",
       "      <td>0</td>\n",
       "      <td>1</td>\n",
       "      <td>1</td>\n",
       "      <td>1</td>\n",
       "      <td>1</td>\n",
       "      <td>1</td>\n",
       "      <td>1</td>\n",
       "      <td>26</td>\n",
       "      <td>183.078280</td>\n",
       "      <td>1.0</td>\n",
       "      <td>8</td>\n",
       "      <td>0.948815</td>\n",
       "      <td>0.989222</td>\n",
       "      <td>0</td>\n",
       "    </tr>\n",
       "    <tr>\n",
       "      <th>355</th>\n",
       "      <td>0</td>\n",
       "      <td>1</td>\n",
       "      <td>1</td>\n",
       "      <td>1</td>\n",
       "      <td>1</td>\n",
       "      <td>1</td>\n",
       "      <td>1</td>\n",
       "      <td>30</td>\n",
       "      <td>83.809056</td>\n",
       "      <td>1.0</td>\n",
       "      <td>9</td>\n",
       "      <td>0.000000</td>\n",
       "      <td>0.000000</td>\n",
       "      <td>0</td>\n",
       "    </tr>\n",
       "    <tr>\n",
       "      <th>2483</th>\n",
       "      <td>0</td>\n",
       "      <td>1</td>\n",
       "      <td>1</td>\n",
       "      <td>1</td>\n",
       "      <td>1</td>\n",
       "      <td>6</td>\n",
       "      <td>0</td>\n",
       "      <td>38</td>\n",
       "      <td>41.287630</td>\n",
       "      <td>6.0</td>\n",
       "      <td>9</td>\n",
       "      <td>3.354541</td>\n",
       "      <td>3.207609</td>\n",
       "      <td>0</td>\n",
       "    </tr>\n",
       "    <tr>\n",
       "      <th>797</th>\n",
       "      <td>0</td>\n",
       "      <td>1</td>\n",
       "      <td>0</td>\n",
       "      <td>0</td>\n",
       "      <td>1</td>\n",
       "      <td>1</td>\n",
       "      <td>1</td>\n",
       "      <td>27</td>\n",
       "      <td>88.267044</td>\n",
       "      <td>1.0</td>\n",
       "      <td>3</td>\n",
       "      <td>1.360636</td>\n",
       "      <td>1.296916</td>\n",
       "      <td>0</td>\n",
       "    </tr>\n",
       "    <tr>\n",
       "      <th>1010</th>\n",
       "      <td>0</td>\n",
       "      <td>1</td>\n",
       "      <td>1</td>\n",
       "      <td>1</td>\n",
       "      <td>1</td>\n",
       "      <td>12</td>\n",
       "      <td>0</td>\n",
       "      <td>32</td>\n",
       "      <td>181.418851</td>\n",
       "      <td>12.0</td>\n",
       "      <td>3</td>\n",
       "      <td>1.994933</td>\n",
       "      <td>1.918648</td>\n",
       "      <td>0</td>\n",
       "    </tr>\n",
       "  </tbody>\n",
       "</table>\n",
       "</div>"
      ],
      "text/plain": [
       "      gender  Near_Location  Partner  Promo_friends  Phone  Contract_period  \\\n",
       "2288       0              1        0              0      1                6   \n",
       "3302       1              1        1              1      1               12   \n",
       "892        0              1        1              1      0               12   \n",
       "2858       1              1        1              1      1                6   \n",
       "1903       0              1        1              1      1               12   \n",
       "1849       0              1        1              1      1                1   \n",
       "355        0              1        1              1      1                1   \n",
       "2483       0              1        1              1      1                6   \n",
       "797        0              1        0              0      1                1   \n",
       "1010       0              1        1              1      1               12   \n",
       "\n",
       "      Group_visits  Age  Avg_additional_charges_total  Month_to_end_contract  \\\n",
       "2288             1   30                     41.646801                    5.0   \n",
       "3302             0   32                    143.585107                    8.0   \n",
       "892              1   31                     47.107327                   11.0   \n",
       "2858             0   26                    241.885956                    4.0   \n",
       "1903             1   30                    195.563280                   12.0   \n",
       "1849             1   26                    183.078280                    1.0   \n",
       "355              1   30                     83.809056                    1.0   \n",
       "2483             0   38                     41.287630                    6.0   \n",
       "797              1   27                     88.267044                    1.0   \n",
       "1010             0   32                    181.418851                   12.0   \n",
       "\n",
       "      Lifetime  Avg_class_frequency_total  Avg_class_frequency_current_month  \\\n",
       "2288         2                   1.936667                           0.558111   \n",
       "3302         5                   0.629896                           0.682816   \n",
       "892          1                   1.567930                           1.729095   \n",
       "2858         3                   1.477087                           1.552703   \n",
       "1903         4                   1.830852                           2.016738   \n",
       "1849         8                   0.948815                           0.989222   \n",
       "355          9                   0.000000                           0.000000   \n",
       "2483         9                   3.354541                           3.207609   \n",
       "797          3                   1.360636                           1.296916   \n",
       "1010         3                   1.994933                           1.918648   \n",
       "\n",
       "      Churn  \n",
       "2288      1  \n",
       "3302      0  \n",
       "892       0  \n",
       "2858      0  \n",
       "1903      0  \n",
       "1849      0  \n",
       "355       0  \n",
       "2483      0  \n",
       "797       0  \n",
       "1010      0  "
      ]
     },
     "execution_count": 4,
     "metadata": {},
     "output_type": "execute_result"
    }
   ],
   "source": [
    "# Выводим результат импорта\n",
    "df.sample(10)"
   ]
  },
  {
   "cell_type": "code",
   "execution_count": 5,
   "metadata": {},
   "outputs": [],
   "source": [
    "# Изменяем регистр в названиях столбцов\n",
    "df.columns=df.columns.str.lower()"
   ]
  },
  {
   "cell_type": "code",
   "execution_count": 6,
   "metadata": {},
   "outputs": [
    {
     "data": {
      "text/html": [
       "<div>\n",
       "<style scoped>\n",
       "    .dataframe tbody tr th:only-of-type {\n",
       "        vertical-align: middle;\n",
       "    }\n",
       "\n",
       "    .dataframe tbody tr th {\n",
       "        vertical-align: top;\n",
       "    }\n",
       "\n",
       "    .dataframe thead th {\n",
       "        text-align: right;\n",
       "    }\n",
       "</style>\n",
       "<table border=\"1\" class=\"dataframe\">\n",
       "  <thead>\n",
       "    <tr style=\"text-align: right;\">\n",
       "      <th></th>\n",
       "      <th>gender</th>\n",
       "      <th>near_location</th>\n",
       "      <th>partner</th>\n",
       "      <th>promo_friends</th>\n",
       "      <th>phone</th>\n",
       "      <th>contract_period</th>\n",
       "      <th>group_visits</th>\n",
       "      <th>age</th>\n",
       "      <th>avg_additional_charges_total</th>\n",
       "      <th>month_to_end_contract</th>\n",
       "      <th>lifetime</th>\n",
       "      <th>avg_class_frequency_total</th>\n",
       "      <th>avg_class_frequency_current_month</th>\n",
       "      <th>churn</th>\n",
       "    </tr>\n",
       "  </thead>\n",
       "  <tbody>\n",
       "    <tr>\n",
       "      <th>1769</th>\n",
       "      <td>0</td>\n",
       "      <td>1</td>\n",
       "      <td>0</td>\n",
       "      <td>1</td>\n",
       "      <td>1</td>\n",
       "      <td>6</td>\n",
       "      <td>0</td>\n",
       "      <td>29</td>\n",
       "      <td>184.082697</td>\n",
       "      <td>6.0</td>\n",
       "      <td>3</td>\n",
       "      <td>2.171322</td>\n",
       "      <td>2.147964</td>\n",
       "      <td>0</td>\n",
       "    </tr>\n",
       "    <tr>\n",
       "      <th>3764</th>\n",
       "      <td>0</td>\n",
       "      <td>1</td>\n",
       "      <td>1</td>\n",
       "      <td>1</td>\n",
       "      <td>1</td>\n",
       "      <td>1</td>\n",
       "      <td>0</td>\n",
       "      <td>31</td>\n",
       "      <td>40.987163</td>\n",
       "      <td>1.0</td>\n",
       "      <td>9</td>\n",
       "      <td>1.791114</td>\n",
       "      <td>1.841029</td>\n",
       "      <td>0</td>\n",
       "    </tr>\n",
       "    <tr>\n",
       "      <th>3048</th>\n",
       "      <td>1</td>\n",
       "      <td>0</td>\n",
       "      <td>1</td>\n",
       "      <td>0</td>\n",
       "      <td>0</td>\n",
       "      <td>1</td>\n",
       "      <td>0</td>\n",
       "      <td>23</td>\n",
       "      <td>12.659007</td>\n",
       "      <td>1.0</td>\n",
       "      <td>1</td>\n",
       "      <td>1.433300</td>\n",
       "      <td>1.087635</td>\n",
       "      <td>1</td>\n",
       "    </tr>\n",
       "    <tr>\n",
       "      <th>2039</th>\n",
       "      <td>0</td>\n",
       "      <td>1</td>\n",
       "      <td>1</td>\n",
       "      <td>1</td>\n",
       "      <td>1</td>\n",
       "      <td>1</td>\n",
       "      <td>0</td>\n",
       "      <td>29</td>\n",
       "      <td>124.242741</td>\n",
       "      <td>1.0</td>\n",
       "      <td>4</td>\n",
       "      <td>0.988797</td>\n",
       "      <td>0.774151</td>\n",
       "      <td>0</td>\n",
       "    </tr>\n",
       "    <tr>\n",
       "      <th>3244</th>\n",
       "      <td>0</td>\n",
       "      <td>1</td>\n",
       "      <td>1</td>\n",
       "      <td>0</td>\n",
       "      <td>0</td>\n",
       "      <td>1</td>\n",
       "      <td>0</td>\n",
       "      <td>25</td>\n",
       "      <td>252.732771</td>\n",
       "      <td>1.0</td>\n",
       "      <td>0</td>\n",
       "      <td>1.016134</td>\n",
       "      <td>0.475981</td>\n",
       "      <td>1</td>\n",
       "    </tr>\n",
       "  </tbody>\n",
       "</table>\n",
       "</div>"
      ],
      "text/plain": [
       "      gender  near_location  partner  promo_friends  phone  contract_period  \\\n",
       "1769       0              1        0              1      1                6   \n",
       "3764       0              1        1              1      1                1   \n",
       "3048       1              0        1              0      0                1   \n",
       "2039       0              1        1              1      1                1   \n",
       "3244       0              1        1              0      0                1   \n",
       "\n",
       "      group_visits  age  avg_additional_charges_total  month_to_end_contract  \\\n",
       "1769             0   29                    184.082697                    6.0   \n",
       "3764             0   31                     40.987163                    1.0   \n",
       "3048             0   23                     12.659007                    1.0   \n",
       "2039             0   29                    124.242741                    1.0   \n",
       "3244             0   25                    252.732771                    1.0   \n",
       "\n",
       "      lifetime  avg_class_frequency_total  avg_class_frequency_current_month  \\\n",
       "1769         3                   2.171322                           2.147964   \n",
       "3764         9                   1.791114                           1.841029   \n",
       "3048         1                   1.433300                           1.087635   \n",
       "2039         4                   0.988797                           0.774151   \n",
       "3244         0                   1.016134                           0.475981   \n",
       "\n",
       "      churn  \n",
       "1769      0  \n",
       "3764      0  \n",
       "3048      1  \n",
       "2039      0  \n",
       "3244      1  "
      ]
     },
     "execution_count": 6,
     "metadata": {},
     "output_type": "execute_result"
    }
   ],
   "source": [
    "# Проверяем результат\n",
    "df.sample(5)"
   ]
  },
  {
   "cell_type": "code",
   "execution_count": 7,
   "metadata": {},
   "outputs": [],
   "source": [
    "# Используем модифицированную функцию из предыдущих проектов для вывода info(), проверки дубликатов и NaN\n",
    "def info (dataframe):\n",
    "    print (dataframe.info())\n",
    "    print()\n",
    "    print ('Количество duplicates:',dataframe.duplicated().sum())\n",
    "    print()\n",
    "    print('Количество NaN:')\n",
    "    print(dataframe.isnull().sum())"
   ]
  },
  {
   "cell_type": "code",
   "execution_count": 8,
   "metadata": {},
   "outputs": [
    {
     "name": "stdout",
     "output_type": "stream",
     "text": [
      "<class 'pandas.core.frame.DataFrame'>\n",
      "RangeIndex: 4000 entries, 0 to 3999\n",
      "Data columns (total 14 columns):\n",
      " #   Column                             Non-Null Count  Dtype  \n",
      "---  ------                             --------------  -----  \n",
      " 0   gender                             4000 non-null   int64  \n",
      " 1   near_location                      4000 non-null   int64  \n",
      " 2   partner                            4000 non-null   int64  \n",
      " 3   promo_friends                      4000 non-null   int64  \n",
      " 4   phone                              4000 non-null   int64  \n",
      " 5   contract_period                    4000 non-null   int64  \n",
      " 6   group_visits                       4000 non-null   int64  \n",
      " 7   age                                4000 non-null   int64  \n",
      " 8   avg_additional_charges_total       4000 non-null   float64\n",
      " 9   month_to_end_contract              4000 non-null   float64\n",
      " 10  lifetime                           4000 non-null   int64  \n",
      " 11  avg_class_frequency_total          4000 non-null   float64\n",
      " 12  avg_class_frequency_current_month  4000 non-null   float64\n",
      " 13  churn                              4000 non-null   int64  \n",
      "dtypes: float64(4), int64(10)\n",
      "memory usage: 437.6 KB\n",
      "None\n",
      "\n",
      "Количество duplicates: 0\n",
      "\n",
      "Количество NaN:\n",
      "gender                               0\n",
      "near_location                        0\n",
      "partner                              0\n",
      "promo_friends                        0\n",
      "phone                                0\n",
      "contract_period                      0\n",
      "group_visits                         0\n",
      "age                                  0\n",
      "avg_additional_charges_total         0\n",
      "month_to_end_contract                0\n",
      "lifetime                             0\n",
      "avg_class_frequency_total            0\n",
      "avg_class_frequency_current_month    0\n",
      "churn                                0\n",
      "dtype: int64\n"
     ]
    }
   ],
   "source": [
    "# Запускаем функцию\n",
    "info(df)"
   ]
  },
  {
   "cell_type": "markdown",
   "metadata": {},
   "source": [
    "<b>Датасет импортирован и прочитан. Названия столбцов приведены к нижнему регистру. Пропуски и дубликаты отсутствуют.</b>"
   ]
  },
  {
   "cell_type": "markdown",
   "metadata": {},
   "source": [
    "___"
   ]
  },
  {
   "cell_type": "code",
   "execution_count": 9,
   "metadata": {},
   "outputs": [
    {
     "data": {
      "text/html": [
       "<div>\n",
       "<style scoped>\n",
       "    .dataframe tbody tr th:only-of-type {\n",
       "        vertical-align: middle;\n",
       "    }\n",
       "\n",
       "    .dataframe tbody tr th {\n",
       "        vertical-align: top;\n",
       "    }\n",
       "\n",
       "    .dataframe thead th {\n",
       "        text-align: right;\n",
       "    }\n",
       "</style>\n",
       "<table border=\"1\" class=\"dataframe\">\n",
       "  <thead>\n",
       "    <tr style=\"text-align: right;\">\n",
       "      <th></th>\n",
       "      <th>count</th>\n",
       "      <th>mean</th>\n",
       "      <th>std</th>\n",
       "      <th>min</th>\n",
       "      <th>25%</th>\n",
       "      <th>50%</th>\n",
       "      <th>75%</th>\n",
       "      <th>max</th>\n",
       "    </tr>\n",
       "  </thead>\n",
       "  <tbody>\n",
       "    <tr>\n",
       "      <th>gender</th>\n",
       "      <td>4000.0</td>\n",
       "      <td>0.51</td>\n",
       "      <td>0.50</td>\n",
       "      <td>0.00</td>\n",
       "      <td>0.00</td>\n",
       "      <td>1.00</td>\n",
       "      <td>1.00</td>\n",
       "      <td>1.00</td>\n",
       "    </tr>\n",
       "    <tr>\n",
       "      <th>near_location</th>\n",
       "      <td>4000.0</td>\n",
       "      <td>0.85</td>\n",
       "      <td>0.36</td>\n",
       "      <td>0.00</td>\n",
       "      <td>1.00</td>\n",
       "      <td>1.00</td>\n",
       "      <td>1.00</td>\n",
       "      <td>1.00</td>\n",
       "    </tr>\n",
       "    <tr>\n",
       "      <th>partner</th>\n",
       "      <td>4000.0</td>\n",
       "      <td>0.49</td>\n",
       "      <td>0.50</td>\n",
       "      <td>0.00</td>\n",
       "      <td>0.00</td>\n",
       "      <td>0.00</td>\n",
       "      <td>1.00</td>\n",
       "      <td>1.00</td>\n",
       "    </tr>\n",
       "    <tr>\n",
       "      <th>promo_friends</th>\n",
       "      <td>4000.0</td>\n",
       "      <td>0.31</td>\n",
       "      <td>0.46</td>\n",
       "      <td>0.00</td>\n",
       "      <td>0.00</td>\n",
       "      <td>0.00</td>\n",
       "      <td>1.00</td>\n",
       "      <td>1.00</td>\n",
       "    </tr>\n",
       "    <tr>\n",
       "      <th>phone</th>\n",
       "      <td>4000.0</td>\n",
       "      <td>0.90</td>\n",
       "      <td>0.30</td>\n",
       "      <td>0.00</td>\n",
       "      <td>1.00</td>\n",
       "      <td>1.00</td>\n",
       "      <td>1.00</td>\n",
       "      <td>1.00</td>\n",
       "    </tr>\n",
       "    <tr>\n",
       "      <th>contract_period</th>\n",
       "      <td>4000.0</td>\n",
       "      <td>4.68</td>\n",
       "      <td>4.55</td>\n",
       "      <td>1.00</td>\n",
       "      <td>1.00</td>\n",
       "      <td>1.00</td>\n",
       "      <td>6.00</td>\n",
       "      <td>12.00</td>\n",
       "    </tr>\n",
       "    <tr>\n",
       "      <th>group_visits</th>\n",
       "      <td>4000.0</td>\n",
       "      <td>0.41</td>\n",
       "      <td>0.49</td>\n",
       "      <td>0.00</td>\n",
       "      <td>0.00</td>\n",
       "      <td>0.00</td>\n",
       "      <td>1.00</td>\n",
       "      <td>1.00</td>\n",
       "    </tr>\n",
       "    <tr>\n",
       "      <th>age</th>\n",
       "      <td>4000.0</td>\n",
       "      <td>29.18</td>\n",
       "      <td>3.26</td>\n",
       "      <td>18.00</td>\n",
       "      <td>27.00</td>\n",
       "      <td>29.00</td>\n",
       "      <td>31.00</td>\n",
       "      <td>41.00</td>\n",
       "    </tr>\n",
       "    <tr>\n",
       "      <th>avg_additional_charges_total</th>\n",
       "      <td>4000.0</td>\n",
       "      <td>146.94</td>\n",
       "      <td>96.36</td>\n",
       "      <td>0.15</td>\n",
       "      <td>68.87</td>\n",
       "      <td>136.22</td>\n",
       "      <td>210.95</td>\n",
       "      <td>552.59</td>\n",
       "    </tr>\n",
       "    <tr>\n",
       "      <th>month_to_end_contract</th>\n",
       "      <td>4000.0</td>\n",
       "      <td>4.32</td>\n",
       "      <td>4.19</td>\n",
       "      <td>1.00</td>\n",
       "      <td>1.00</td>\n",
       "      <td>1.00</td>\n",
       "      <td>6.00</td>\n",
       "      <td>12.00</td>\n",
       "    </tr>\n",
       "    <tr>\n",
       "      <th>lifetime</th>\n",
       "      <td>4000.0</td>\n",
       "      <td>3.72</td>\n",
       "      <td>3.75</td>\n",
       "      <td>0.00</td>\n",
       "      <td>1.00</td>\n",
       "      <td>3.00</td>\n",
       "      <td>5.00</td>\n",
       "      <td>31.00</td>\n",
       "    </tr>\n",
       "    <tr>\n",
       "      <th>avg_class_frequency_total</th>\n",
       "      <td>4000.0</td>\n",
       "      <td>1.88</td>\n",
       "      <td>0.97</td>\n",
       "      <td>0.00</td>\n",
       "      <td>1.18</td>\n",
       "      <td>1.83</td>\n",
       "      <td>2.54</td>\n",
       "      <td>6.02</td>\n",
       "    </tr>\n",
       "    <tr>\n",
       "      <th>avg_class_frequency_current_month</th>\n",
       "      <td>4000.0</td>\n",
       "      <td>1.77</td>\n",
       "      <td>1.05</td>\n",
       "      <td>0.00</td>\n",
       "      <td>0.96</td>\n",
       "      <td>1.72</td>\n",
       "      <td>2.51</td>\n",
       "      <td>6.15</td>\n",
       "    </tr>\n",
       "    <tr>\n",
       "      <th>churn</th>\n",
       "      <td>4000.0</td>\n",
       "      <td>0.27</td>\n",
       "      <td>0.44</td>\n",
       "      <td>0.00</td>\n",
       "      <td>0.00</td>\n",
       "      <td>0.00</td>\n",
       "      <td>1.00</td>\n",
       "      <td>1.00</td>\n",
       "    </tr>\n",
       "  </tbody>\n",
       "</table>\n",
       "</div>"
      ],
      "text/plain": [
       "                                    count    mean    std    min    25%  \\\n",
       "gender                             4000.0    0.51   0.50   0.00   0.00   \n",
       "near_location                      4000.0    0.85   0.36   0.00   1.00   \n",
       "partner                            4000.0    0.49   0.50   0.00   0.00   \n",
       "promo_friends                      4000.0    0.31   0.46   0.00   0.00   \n",
       "phone                              4000.0    0.90   0.30   0.00   1.00   \n",
       "contract_period                    4000.0    4.68   4.55   1.00   1.00   \n",
       "group_visits                       4000.0    0.41   0.49   0.00   0.00   \n",
       "age                                4000.0   29.18   3.26  18.00  27.00   \n",
       "avg_additional_charges_total       4000.0  146.94  96.36   0.15  68.87   \n",
       "month_to_end_contract              4000.0    4.32   4.19   1.00   1.00   \n",
       "lifetime                           4000.0    3.72   3.75   0.00   1.00   \n",
       "avg_class_frequency_total          4000.0    1.88   0.97   0.00   1.18   \n",
       "avg_class_frequency_current_month  4000.0    1.77   1.05   0.00   0.96   \n",
       "churn                              4000.0    0.27   0.44   0.00   0.00   \n",
       "\n",
       "                                      50%     75%     max  \n",
       "gender                               1.00    1.00    1.00  \n",
       "near_location                        1.00    1.00    1.00  \n",
       "partner                              0.00    1.00    1.00  \n",
       "promo_friends                        0.00    1.00    1.00  \n",
       "phone                                1.00    1.00    1.00  \n",
       "contract_period                      1.00    6.00   12.00  \n",
       "group_visits                         0.00    1.00    1.00  \n",
       "age                                 29.00   31.00   41.00  \n",
       "avg_additional_charges_total       136.22  210.95  552.59  \n",
       "month_to_end_contract                1.00    6.00   12.00  \n",
       "lifetime                             3.00    5.00   31.00  \n",
       "avg_class_frequency_total            1.83    2.54    6.02  \n",
       "avg_class_frequency_current_month    1.72    2.51    6.15  \n",
       "churn                                0.00    1.00    1.00  "
      ]
     },
     "execution_count": 9,
     "metadata": {},
     "output_type": "execute_result"
    }
   ],
   "source": [
    "# Применяем метод .describe()\n",
    "df.describe().round(2).T"
   ]
  },
  {
   "cell_type": "markdown",
   "metadata": {},
   "source": [
    "<b>Анализ данных:</b>\n",
    "- По полу посетители фитнес-центра распределены практически поровну,\n",
    "- Подавляющее большинство клиентов либо живут, либо работают рядом с центром,\n",
    "- Практически половина клиентов является сотрудниками компаний - партнеров,\n",
    "- Треть клиентов воспользовалась акцией \"приведи друга\",\n",
    "- Подавляющее большинство имеет контактный телефон,\n",
    "- Средняя длительность абонемента - 4,68 месяцев,\n",
    "- Чуть больше 40 процентов клиентов посещали групповые занятия,\n",
    "- Средний возраст клиентов - 29 лет,\n",
    "- На одном клиенте фитнес-центр зарабатывал 147 у.е. помимо стоимости абонемента,\n",
    "- В среднем, до конца абонемента - 4,3 месяца, однако у большинства этот период составляет один месяц,\n",
    "- В среднем, с момента первого обращения в центр проходит 4 месяца,  медианное время при этом - 3 месяца,\n",
    "- Средние частоты посещений за неделю (за все время и за месяц) соответственно равны 1,88 и 1,77. <b>Можно предположить сильную корреляцию между этими параметрами...</b>,\n",
    "- Отток в текущем месяце составил более четверти (27%), что, безусловно, является настораживающим фактом.\n"
   ]
  },
  {
   "cell_type": "code",
   "execution_count": 10,
   "metadata": {},
   "outputs": [
    {
     "data": {
      "text/html": [
       "<div>\n",
       "<style scoped>\n",
       "    .dataframe tbody tr th:only-of-type {\n",
       "        vertical-align: middle;\n",
       "    }\n",
       "\n",
       "    .dataframe tbody tr th {\n",
       "        vertical-align: top;\n",
       "    }\n",
       "\n",
       "    .dataframe thead th {\n",
       "        text-align: right;\n",
       "    }\n",
       "</style>\n",
       "<table border=\"1\" class=\"dataframe\">\n",
       "  <thead>\n",
       "    <tr style=\"text-align: right;\">\n",
       "      <th></th>\n",
       "      <th>gender</th>\n",
       "      <th>near_location</th>\n",
       "      <th>partner</th>\n",
       "      <th>promo_friends</th>\n",
       "      <th>phone</th>\n",
       "      <th>contract_period</th>\n",
       "      <th>group_visits</th>\n",
       "      <th>age</th>\n",
       "      <th>avg_additional_charges_total</th>\n",
       "      <th>month_to_end_contract</th>\n",
       "      <th>lifetime</th>\n",
       "      <th>avg_class_frequency_total</th>\n",
       "      <th>avg_class_frequency_current_month</th>\n",
       "    </tr>\n",
       "    <tr>\n",
       "      <th>churn</th>\n",
       "      <th></th>\n",
       "      <th></th>\n",
       "      <th></th>\n",
       "      <th></th>\n",
       "      <th></th>\n",
       "      <th></th>\n",
       "      <th></th>\n",
       "      <th></th>\n",
       "      <th></th>\n",
       "      <th></th>\n",
       "      <th></th>\n",
       "      <th></th>\n",
       "      <th></th>\n",
       "    </tr>\n",
       "  </thead>\n",
       "  <tbody>\n",
       "    <tr>\n",
       "      <th>0</th>\n",
       "      <td>0.51</td>\n",
       "      <td>0.87</td>\n",
       "      <td>0.53</td>\n",
       "      <td>0.35</td>\n",
       "      <td>0.9</td>\n",
       "      <td>5.75</td>\n",
       "      <td>0.46</td>\n",
       "      <td>29.98</td>\n",
       "      <td>158.45</td>\n",
       "      <td>5.28</td>\n",
       "      <td>4.71</td>\n",
       "      <td>2.02</td>\n",
       "      <td>2.03</td>\n",
       "    </tr>\n",
       "    <tr>\n",
       "      <th>1</th>\n",
       "      <td>0.51</td>\n",
       "      <td>0.77</td>\n",
       "      <td>0.36</td>\n",
       "      <td>0.18</td>\n",
       "      <td>0.9</td>\n",
       "      <td>1.73</td>\n",
       "      <td>0.27</td>\n",
       "      <td>26.99</td>\n",
       "      <td>115.08</td>\n",
       "      <td>1.66</td>\n",
       "      <td>0.99</td>\n",
       "      <td>1.47</td>\n",
       "      <td>1.04</td>\n",
       "    </tr>\n",
       "  </tbody>\n",
       "</table>\n",
       "</div>"
      ],
      "text/plain": [
       "       gender  near_location  partner  promo_friends  phone  contract_period  \\\n",
       "churn                                                                          \n",
       "0        0.51           0.87     0.53           0.35    0.9             5.75   \n",
       "1        0.51           0.77     0.36           0.18    0.9             1.73   \n",
       "\n",
       "       group_visits    age  avg_additional_charges_total  \\\n",
       "churn                                                      \n",
       "0              0.46  29.98                        158.45   \n",
       "1              0.27  26.99                        115.08   \n",
       "\n",
       "       month_to_end_contract  lifetime  avg_class_frequency_total  \\\n",
       "churn                                                               \n",
       "0                       5.28      4.71                       2.02   \n",
       "1                       1.66      0.99                       1.47   \n",
       "\n",
       "       avg_class_frequency_current_month  \n",
       "churn                                     \n",
       "0                                   2.03  \n",
       "1                                   1.04  "
      ]
     },
     "execution_count": 10,
     "metadata": {},
     "output_type": "execute_result"
    }
   ],
   "source": [
    "# Исследуем средние значения в группах \"остался\", \"отток\" методом .groupby()\n",
    "df.groupby('churn').agg('mean').round(2)"
   ]
  },
  {
   "cell_type": "markdown",
   "metadata": {},
   "source": [
    "<b>Анализ данных:</b>\n",
    "Очевидно, что \"отставшиеся\" клиенты (0) демонстрируют более сильные связи с финтес-центрам по всем позициям, начиная с локации (живут и/или работают рядом) и заканчивая количеством посещений. Лишь два параметра идентичны для обеих групп: пол и наличие контактного телефона."
   ]
  },
  {
   "cell_type": "code",
   "execution_count": 11,
   "metadata": {},
   "outputs": [
    {
     "name": "stdout",
     "output_type": "stream",
     "text": [
      "1061\n",
      "2939\n"
     ]
    }
   ],
   "source": [
    "# Формируем две группы посетителей методом .loc: \"left\" - ушедшие, \"stayed\" - оставшиеся\n",
    "left = df.loc[df['churn'] == 1]\n",
    "stayed = df.loc[df['churn'] == 0]\n",
    "print(left.shape[0])\n",
    "print(stayed.shape[0])"
   ]
  },
  {
   "cell_type": "code",
   "execution_count": 12,
   "metadata": {},
   "outputs": [],
   "source": [
    "# Используем еще одну функцию из предыдущих проектов (с модификациями и дополнениями) для вывода гистограмм\n",
    "def hists(data, column, labels=None):\n",
    "    fig = plt.figure(figsize=(25, 30))\n",
    "    \n",
    "    unique_values = data[column].unique()\n",
    "    \n",
    "    fig.suptitle('Распределение признаков/ Распределение признаков по кластерам', y=0.92, fontsize=30) \n",
    "    \n",
    "    for i, el in enumerate(data.columns.drop(column)):\n",
    "        ax = fig.add_subplot(5,3,i + 1)\n",
    "        \n",
    "        for val in unique_values:    \n",
    "            sns.distplot(\n",
    "                df[df[column] == val][el],\n",
    "                label=val,\n",
    "                kde=False,\n",
    "                ax=ax\n",
    "            )   \n",
    "    ax_handles, ax_labels = ax.get_legend_handles_labels()\n",
    "    if labels: \n",
    "        ax_labels = (labels[el] for el in ax_labels)\n",
    "    handles = {label: handle for handle, label in zip(ax_handles, ax_labels)}\n",
    "\n",
    "    fig.legend(\n",
    "        handles.values(), \n",
    "        handles.keys(), \n",
    "        ncol=len(unique_values), \n",
    "        loc = 'upper center', \n",
    "        bbox_to_anchor=(0.5, 0.9), \n",
    "        prop={'size': 17}\n",
    "    )\n",
    "    plt.show()"
   ]
  },
  {
   "cell_type": "code",
   "execution_count": 13,
   "metadata": {},
   "outputs": [
    {
     "data": {
      "image/png": "[encoded data removed]",
      "text/plain": [
       "<Figure size 1800x2160 with 13 Axes>"
      ]
     },
     "metadata": {
      "needs_background": "light"
     },
     "output_type": "display_data"
    }
   ],
   "source": [
    "# Выводим гистограммы\n",
    "hists(df, 'churn', {'0': 'Stayed', '1': 'Left'})"
   ]
  },
  {
   "cell_type": "markdown",
   "metadata": {},
   "source": [
    "<b>Анализ данных:</b>\n",
    "- gender - распределение равномерное,\n",
    "- near_Location - большинство клиентов живут/ работают недалеко от центра, среди тех, кто живет/ работает далеко, закономерно больше отток,\n",
    "- partner - клиенты, не участвовавшие в партнерской программе уходят чаще,\n",
    "- promo_friends - среди тех, кто не использовал промо, ушедших больше,\n",
    "- phone - наличие контактного телефона не останаливает клиента от того, чтобы прекратить заниматься,\n",
    "- contract_period - короткий абонемент - больше отток,\n",
    "- group_visits - клиенты, не посещающие групповые программы, уходят чаще,\n",
    "- age - остаются те, кому за 30, уходят те, кому в районе 27,\n",
    "- avg_additional_charges_total - суммарная выручка от других услуг у оставшихся клиентов (до 400 у.е.); у ушедших - в районе 300 у.е.,\n",
    "- month_to_end_contract - практически полное совпадение с длительностью абонемента,\n",
    "- lifetime - те, кто потом уходит и залом начинает пользоваться позже (подсознательно уже решив, что заниматься он/она не будет),\n",
    "- avg_class_frequency_total - клиенты, попадающие в отток, значительно реже посещают зал,\n",
    "- avg_class_frequency_current_month - опять же, те кто собирался бросить занятия, снижают частоту появлений в зале до того, как прекращают ходить полностью (работает банальная человеческая психология)."
   ]
  },
  {
   "cell_type": "code",
   "execution_count": 14,
   "metadata": {},
   "outputs": [
    {
     "data": {
      "image/png": "[encoded data removed]",
      "text/plain": [
       "<Figure size 1440x1080 with 2 Axes>"
      ]
     },
     "metadata": {
      "needs_background": "light"
     },
     "output_type": "display_data"
    }
   ],
   "source": [
    "# Формируем матрицу корреляции\n",
    "cm = df.corr()\n",
    "plt.subplots(figsize=(20, 15))\n",
    "sns.heatmap(cm, annot = True, square=True, fmt = '0.2f', linewidths=.2,linecolor='black', cmap='coolwarm')\n",
    "plt.title('Матрица корреляции признаков')\n",
    "plt.show()"
   ]
  },
  {
   "cell_type": "markdown",
   "metadata": {},
   "source": [
    "<b>Анализ данных:</b>\n",
    "Наблюдается высока корреляция в парах признаков:\n",
    "- Contract_period - Month_to_end_contract (0,97). Недавнее приобретение абонементов.\n",
    "- Avg_class_frequency_total - Avg_class_frequency_current_month (0,95). Частота появлени в зале."
   ]
  },
  {
   "cell_type": "markdown",
   "metadata": {},
   "source": [
    "## Промежуточные выводы:\n",
    "\n",
    "<b>Предобработка:</b>\n",
    "- Импортирован и прочитан датасет,\n",
    "- Проведено исследование датасета на предмет пропусков и дубликатов,\n",
    "- Названия столбцов приведены к нижнему регистру.\n",
    "\n",
    "<b>Закономерности, выявленные после проведения EDA:</b>\n",
    "\n",
    "- Если клиент живет/ работает далеко от центра, вероятность оттока повышается,\n",
    "- Если клиент не участвует в партнерских программах и промо-акциях, вероятность оттока повышается,\n",
    "- Если клиент не посещает групповые занятия, вероятность оттока повышается (в реальности, это выглядит довольно странно, кстати...),\n",
    "- Если клиент покупает краткосрочный абонемент и/или редко посещает зал, вероятность оттока повышается."
   ]
  },
  {
   "cell_type": "markdown",
   "metadata": {},
   "source": [
    "___"
   ]
  },
  {
   "cell_type": "markdown",
   "metadata": {},
   "source": [
    "## Формирование модели прогнозирования оттока клиентов"
   ]
  },
  {
   "cell_type": "code",
   "execution_count": 15,
   "metadata": {},
   "outputs": [],
   "source": [
    "# Формируем переменные: с признаками и целевую\n",
    "X = df.drop('churn', axis=1)\n",
    "y = df['churn']"
   ]
  },
  {
   "cell_type": "code",
   "execution_count": 16,
   "metadata": {},
   "outputs": [],
   "source": [
    "# Делим выборку на обучающую и валидационную\n",
    "X_train, X_test, y_train, y_test = train_test_split(X, y, test_size=0.2, random_state=0)"
   ]
  },
  {
   "cell_type": "code",
   "execution_count": 17,
   "metadata": {},
   "outputs": [
    {
     "data": {
      "text/plain": [
       "StandardScaler()"
      ]
     },
     "execution_count": 17,
     "metadata": {},
     "output_type": "execute_result"
    }
   ],
   "source": [
    "# Проводим стандартизацию\n",
    "scaler = StandardScaler()\n",
    "scaler.fit(X_train)"
   ]
  },
  {
   "cell_type": "code",
   "execution_count": 18,
   "metadata": {},
   "outputs": [],
   "source": [
    "# Преобразуем обучающий и валидационные наборы данных\n",
    "X_train_st = scaler.transform(X_train)\n",
    "X_test_st = scaler.transform(X_test)"
   ]
  },
  {
   "cell_type": "code",
   "execution_count": 19,
   "metadata": {},
   "outputs": [],
   "source": [
    "# Готовим основу для функции\n",
    "models = [LogisticRegression, RandomForestClassifier]"
   ]
  },
  {
   "cell_type": "code",
   "execution_count": 20,
   "metadata": {},
   "outputs": [],
   "source": [
    "# Пишем функцию\n",
    "def res_model(m, X_train, X_test, y_train, y_test):\n",
    "    model = m(random_state=0)\n",
    "    model.fit(X_train, y_train)\n",
    "    prediction = model.predict(X_test)\n",
    "    print('Accuracy: {:.2f}'.format(accuracy_score(y_test ,prediction)))\n",
    "    print('Precision: {:.2f}'.format(precision_score(y_test ,prediction)))\n",
    "    print('Recall: {:.2f}'.format(recall_score(y_test ,prediction)))"
   ]
  },
  {
   "cell_type": "code",
   "execution_count": 21,
   "metadata": {},
   "outputs": [
    {
     "name": "stdout",
     "output_type": "stream",
     "text": [
      "<class 'sklearn.linear_model._logistic.LogisticRegression'>\n",
      "Accuracy: 0.91\n",
      "Precision: 0.82\n",
      "Recall: 0.80\n",
      "<class 'sklearn.ensemble._forest.RandomForestClassifier'>\n",
      "Accuracy: 0.92\n",
      "Precision: 0.84\n",
      "Recall: 0.82\n"
     ]
    }
   ],
   "source": [
    "# Выполняем функцию\n",
    "for i in models:\n",
    "    print(i)\n",
    "    res_model(i, X_train, X_test, y_train, y_test)"
   ]
  },
  {
   "cell_type": "markdown",
   "metadata": {},
   "source": [
    "### Промежуточные выводы:\n",
    "Применение двух моделей (\"Логистическая регрессия\" и \"Случайный лес\") показало, что:\n",
    "- Доля accuracy  у моделей примерно равна (0,91 против 0,92),\n",
    "- Доля precision у регрессии - 0,82, а у случайного леса - 0, 84,\n",
    "- Доля recall у регрессии - 0,80, а у случайного леса - 0,82.\n",
    "\n",
    "В общем, можно сказать, что обе модели примерно равны. Модель регрессии (на основании метрик) показала себя чуть хуже, однако, вполне вероятно, что при подборе параметров качество и той, и другой модели может возрасти...\n"
   ]
  },
  {
   "cell_type": "markdown",
   "metadata": {},
   "source": [
    "___"
   ]
  },
  {
   "cell_type": "markdown",
   "metadata": {},
   "source": [
    "## Формирование кластеров клиентов"
   ]
  },
  {
   "cell_type": "code",
   "execution_count": 22,
   "metadata": {},
   "outputs": [],
   "source": [
    "# Проводим обязательную стандартизацию данных перед работой с алгоритмами\n",
    "sc = StandardScaler()\n",
    "x_sc = sc.fit_transform(df)"
   ]
  },
  {
   "cell_type": "code",
   "execution_count": 23,
   "metadata": {},
   "outputs": [],
   "source": [
    "# Обучаем модель кластеризации на основании алгоритма K-Means\n",
    "# Задаем количество кластеров; прогнозируем кластеры для наблюдений; сохраняем метки кластера\n",
    "km = KMeans(n_clusters = 5,random_state=0)\n",
    "labels = km.fit_predict(x_sc)\n",
    "df['cluster_km'] = labels"
   ]
  },
  {
   "cell_type": "code",
   "execution_count": 24,
   "metadata": {},
   "outputs": [],
   "source": [
    "# Формируем дендрограмму, задаем метод 'ward'\n",
    "linked = linkage(x_sc, method = 'ward') "
   ]
  },
  {
   "cell_type": "markdown",
   "metadata": {},
   "source": [
    "<b><span style= color:red> Важно! При формировании дендрограммы я применяю truncate_mode='lastp', поскольку в противном случае дендрограмма строится чрезвычайно долго (по причине множества мелких кластеров).</span></b>"
   ]
  },
  {
   "cell_type": "code",
   "execution_count": 25,
   "metadata": {
    "scrolled": false
   },
   "outputs": [
    {
     "data": {
      "image/png": "[encoded data removed]",
      "text/plain": [
       "<Figure size 1080x720 with 1 Axes>"
      ]
     },
     "metadata": {
      "needs_background": "light"
     },
     "output_type": "display_data"
    }
   ],
   "source": [
    "# Выводим дендрограмму\n",
    "plt.figure(figsize=(15, 10))  \n",
    "dendrogram(linked, orientation='top', leaf_rotation=45, truncate_mode='lastp')\n",
    "plt.title ('Кластеризация клиентов')\n",
    "plt.show()"
   ]
  },
  {
   "cell_type": "code",
   "execution_count": 26,
   "metadata": {},
   "outputs": [
    {
     "data": {
      "text/html": [
       "<div>\n",
       "<style scoped>\n",
       "    .dataframe tbody tr th:only-of-type {\n",
       "        vertical-align: middle;\n",
       "    }\n",
       "\n",
       "    .dataframe tbody tr th {\n",
       "        vertical-align: top;\n",
       "    }\n",
       "\n",
       "    .dataframe thead th {\n",
       "        text-align: right;\n",
       "    }\n",
       "</style>\n",
       "<table border=\"1\" class=\"dataframe\">\n",
       "  <thead>\n",
       "    <tr style=\"text-align: right;\">\n",
       "      <th>cluster_km</th>\n",
       "      <th>0</th>\n",
       "      <th>1</th>\n",
       "      <th>2</th>\n",
       "      <th>3</th>\n",
       "      <th>4</th>\n",
       "    </tr>\n",
       "  </thead>\n",
       "  <tbody>\n",
       "    <tr>\n",
       "      <th>gender</th>\n",
       "      <td>0.53</td>\n",
       "      <td>0.51</td>\n",
       "      <td>0.55</td>\n",
       "      <td>0.48</td>\n",
       "      <td>0.50</td>\n",
       "    </tr>\n",
       "    <tr>\n",
       "      <th>near_location</th>\n",
       "      <td>0.87</td>\n",
       "      <td>0.76</td>\n",
       "      <td>0.84</td>\n",
       "      <td>0.83</td>\n",
       "      <td>0.94</td>\n",
       "    </tr>\n",
       "    <tr>\n",
       "      <th>partner</th>\n",
       "      <td>0.47</td>\n",
       "      <td>0.34</td>\n",
       "      <td>0.37</td>\n",
       "      <td>0.46</td>\n",
       "      <td>0.77</td>\n",
       "    </tr>\n",
       "    <tr>\n",
       "      <th>promo_friends</th>\n",
       "      <td>0.31</td>\n",
       "      <td>0.18</td>\n",
       "      <td>0.21</td>\n",
       "      <td>0.26</td>\n",
       "      <td>0.56</td>\n",
       "    </tr>\n",
       "    <tr>\n",
       "      <th>phone</th>\n",
       "      <td>0.00</td>\n",
       "      <td>1.00</td>\n",
       "      <td>1.00</td>\n",
       "      <td>1.00</td>\n",
       "      <td>1.00</td>\n",
       "    </tr>\n",
       "    <tr>\n",
       "      <th>contract_period</th>\n",
       "      <td>4.82</td>\n",
       "      <td>1.57</td>\n",
       "      <td>2.69</td>\n",
       "      <td>2.75</td>\n",
       "      <td>11.20</td>\n",
       "    </tr>\n",
       "    <tr>\n",
       "      <th>group_visits</th>\n",
       "      <td>0.43</td>\n",
       "      <td>0.26</td>\n",
       "      <td>0.44</td>\n",
       "      <td>0.38</td>\n",
       "      <td>0.56</td>\n",
       "    </tr>\n",
       "    <tr>\n",
       "      <th>age</th>\n",
       "      <td>29.34</td>\n",
       "      <td>26.91</td>\n",
       "      <td>29.98</td>\n",
       "      <td>30.04</td>\n",
       "      <td>29.88</td>\n",
       "    </tr>\n",
       "    <tr>\n",
       "      <th>avg_additional_charges_total</th>\n",
       "      <td>144.52</td>\n",
       "      <td>114.99</td>\n",
       "      <td>161.30</td>\n",
       "      <td>151.14</td>\n",
       "      <td>162.67</td>\n",
       "    </tr>\n",
       "    <tr>\n",
       "      <th>month_to_end_contract</th>\n",
       "      <td>4.50</td>\n",
       "      <td>1.51</td>\n",
       "      <td>2.47</td>\n",
       "      <td>2.55</td>\n",
       "      <td>10.26</td>\n",
       "    </tr>\n",
       "    <tr>\n",
       "      <th>lifetime</th>\n",
       "      <td>3.96</td>\n",
       "      <td>0.98</td>\n",
       "      <td>4.62</td>\n",
       "      <td>4.64</td>\n",
       "      <td>4.71</td>\n",
       "    </tr>\n",
       "    <tr>\n",
       "      <th>avg_class_frequency_total</th>\n",
       "      <td>1.86</td>\n",
       "      <td>1.45</td>\n",
       "      <td>2.91</td>\n",
       "      <td>1.17</td>\n",
       "      <td>2.03</td>\n",
       "    </tr>\n",
       "    <tr>\n",
       "      <th>avg_class_frequency_current_month</th>\n",
       "      <td>1.73</td>\n",
       "      <td>1.03</td>\n",
       "      <td>2.92</td>\n",
       "      <td>1.16</td>\n",
       "      <td>2.02</td>\n",
       "    </tr>\n",
       "  </tbody>\n",
       "</table>\n",
       "</div>"
      ],
      "text/plain": [
       "cluster_km                              0       1       2       3       4\n",
       "gender                               0.53    0.51    0.55    0.48    0.50\n",
       "near_location                        0.87    0.76    0.84    0.83    0.94\n",
       "partner                              0.47    0.34    0.37    0.46    0.77\n",
       "promo_friends                        0.31    0.18    0.21    0.26    0.56\n",
       "phone                                0.00    1.00    1.00    1.00    1.00\n",
       "contract_period                      4.82    1.57    2.69    2.75   11.20\n",
       "group_visits                         0.43    0.26    0.44    0.38    0.56\n",
       "age                                 29.34   26.91   29.98   30.04   29.88\n",
       "avg_additional_charges_total       144.52  114.99  161.30  151.14  162.67\n",
       "month_to_end_contract                4.50    1.51    2.47    2.55   10.26\n",
       "lifetime                             3.96    0.98    4.62    4.64    4.71\n",
       "avg_class_frequency_total            1.86    1.45    2.91    1.17    2.03\n",
       "avg_class_frequency_current_month    1.73    1.03    2.92    1.16    2.02"
      ]
     },
     "execution_count": 26,
     "metadata": {},
     "output_type": "execute_result"
    }
   ],
   "source": [
    "# Выводим средние значения признаков по кластерам\n",
    "df.drop('churn', axis=1).groupby('cluster_km').mean().round(2).T"
   ]
  },
  {
   "cell_type": "markdown",
   "metadata": {},
   "source": [
    "<b>Анализ данных:</b>\n",
    "- <b>Кластер 1</b> суммарно демонстрирует самые низкие показатели по ряду ключевых параметров: contract_period, age, avg_additional_charges_total и lifetime, \n",
    "- <b>Кластер 0</b> показывает чуть более высокие показатели по данным параметрам,\n",
    "- <b>Кластеры 2, 3 и 4</b> являются наиболее устойчивыми (\"сильными\") по данным показателям."
   ]
  },
  {
   "cell_type": "code",
   "execution_count": 27,
   "metadata": {},
   "outputs": [
    {
     "data": {
      "image/png": "[encoded data removed]",
      "text/plain": [
       "<Figure size 1800x2160 with 14 Axes>"
      ]
     },
     "metadata": {
      "needs_background": "light"
     },
     "output_type": "display_data"
    }
   ],
   "source": [
    "# Выведем гистограммы распределения признаков по кластерам\n",
    "hists(df, 'cluster_km')"
   ]
  },
  {
   "cell_type": "markdown",
   "metadata": {},
   "source": [
    "<b>Анализ данных:</b> Гистограммы распределения признаков по кластерам показывают, что первый и третий кластеры наиболее многочисленны, их значения чаще смещены вправо: это значит, что клиенты, составляющие данные кластеры старше, больше тратят на дополнительные услуги, чаще посещают зал.\n"
   ]
  },
  {
   "cell_type": "code",
   "execution_count": 28,
   "metadata": {},
   "outputs": [
    {
     "data": {
      "text/html": [
       "<div>\n",
       "<style scoped>\n",
       "    .dataframe tbody tr th:only-of-type {\n",
       "        vertical-align: middle;\n",
       "    }\n",
       "\n",
       "    .dataframe tbody tr th {\n",
       "        vertical-align: top;\n",
       "    }\n",
       "\n",
       "    .dataframe thead th {\n",
       "        text-align: right;\n",
       "    }\n",
       "</style>\n",
       "<table border=\"1\" class=\"dataframe\">\n",
       "  <thead>\n",
       "    <tr style=\"text-align: right;\">\n",
       "      <th></th>\n",
       "      <th>cluster_km</th>\n",
       "      <th>churn</th>\n",
       "    </tr>\n",
       "  </thead>\n",
       "  <tbody>\n",
       "    <tr>\n",
       "      <th>0</th>\n",
       "      <td>0</td>\n",
       "      <td>0.26</td>\n",
       "    </tr>\n",
       "    <tr>\n",
       "      <th>1</th>\n",
       "      <td>1</td>\n",
       "      <td>1.00</td>\n",
       "    </tr>\n",
       "    <tr>\n",
       "      <th>2</th>\n",
       "      <td>2</td>\n",
       "      <td>0.01</td>\n",
       "    </tr>\n",
       "    <tr>\n",
       "      <th>3</th>\n",
       "      <td>3</td>\n",
       "      <td>0.00</td>\n",
       "    </tr>\n",
       "    <tr>\n",
       "      <th>4</th>\n",
       "      <td>4</td>\n",
       "      <td>0.02</td>\n",
       "    </tr>\n",
       "  </tbody>\n",
       "</table>\n",
       "</div>"
      ],
      "text/plain": [
       "   cluster_km  churn\n",
       "0           0   0.26\n",
       "1           1   1.00\n",
       "2           2   0.01\n",
       "3           3   0.00\n",
       "4           4   0.02"
      ]
     },
     "execution_count": 28,
     "metadata": {},
     "output_type": "execute_result"
    }
   ],
   "source": [
    "# Рассчитываем долю оттока по кластерам методом .groupby()\n",
    "df.groupby('cluster_km')['churn'].mean().round(2).reset_index()"
   ]
  },
  {
   "cell_type": "markdown",
   "metadata": {},
   "source": [
    "<b>Анализ данных:</b> Доля оттока по второму кластеру составляет 1.0. Собственно говоря, все предыдущие данные указывали на то, что данный кластер является самым \"слабым\" и проблемным. На втором месте следует нулевой кластер с долей оттока клиентов 0,26."
   ]
  },
  {
   "cell_type": "markdown",
   "metadata": {},
   "source": [
    "## Промежуточные выводы:\n",
    "- Для прогнозирования оттока клиентов в данном случае лучше подходит модель случайного леса. Однако, качество метрик двух испозованных моделей, в общем, совпадает,\n",
    "- В результате кластеризации были получены пять кластеров,\n",
    "- Анализ данных показал, что наиболее \"слабым\" кластером с максимальной долей оттока является кластер №1.\n",
    "- Наиболее \"сильные\" кластерами с минимальными долями оттока являются кластеры 2, 3 и 4."
   ]
  },
  {
   "cell_type": "markdown",
   "metadata": {},
   "source": [
    "___"
   ]
  },
  {
   "cell_type": "markdown",
   "metadata": {},
   "source": [
    "# Общие выводы. Рекомендации:\n",
    "- На отток клиентов влияет, прежде всего, их собственная психология. Исследование показало, что, в основном, уходят молодые люди, купившие абонемент \"попробовать\". Как правило, такие клиенты нуждаются в дополнительной мотивации, поскольку, как известно, привычка формируется за 21 день...\n",
    "- Для того, чтобы снизить отток клиентов стоит мотивировать их дополнительными услугами и/или скидками, входящими в \"стартовый\" пакет в первый месяц. Из таких услуг наиболее востребованными будут два-три БЕСПЛАТНЫХ занятия с тренером: большинство бросает заниматься в фитнес-центрах именно потому, что не понимают как правильно и безопасно выполнять те или иные упражнения.\n",
    "- Вовлечение в групповые занятия также может способствовать удержанию клиентов, особенно, если эти группы формируются из числа коллег/друзей/ людей с общими интересами и задачами.\n",
    "- Активное вовлечение клиентов в клубную жизнь, формирование ощущения причастности к общему делу через организацию конкурсов, внутриклубных соревнований, с помощью различной клубной атрибутики и т.п. также будет способствовать удержанию клиентуры и снижению оттока. \n",
    "- Безусловно, фактор близости к месту жительства/ работы играет существеннную роль, однако если в клубе интересно, весело и продуктивно, многие будут посещать его, несмотря на уделанность..."
   ]
  },
  {
   "cell_type": "code",
   "execution_count": null,
   "metadata": {},
   "outputs": [],
   "source": []
  }
 ],
 "metadata": {
  "ExecuteTimeLog": [
   {
    "duration": 1510,
    "start_time": "2021-06-09T19:10:15.911Z"
   },
   {
    "duration": 3,
    "start_time": "2021-06-09T19:10:49.831Z"
   },
   {
    "duration": 32,
    "start_time": "2021-06-09T19:11:42.672Z"
   },
   {
    "duration": 403,
    "start_time": "2021-06-09T19:11:59.107Z"
   },
   {
    "duration": 26,
    "start_time": "2021-06-09T19:12:49.712Z"
   },
   {
    "duration": 4,
    "start_time": "2021-06-09T19:21:59.434Z"
   },
   {
    "duration": 6,
    "start_time": "2021-06-09T19:22:38.832Z"
   },
   {
    "duration": 17,
    "start_time": "2021-06-09T19:23:19.006Z"
   },
   {
    "duration": 4,
    "start_time": "2021-06-09T19:24:06.155Z"
   },
   {
    "duration": 6,
    "start_time": "2021-06-09T19:24:07.044Z"
   },
   {
    "duration": 18,
    "start_time": "2021-06-09T19:24:08.242Z"
   },
   {
    "duration": 4,
    "start_time": "2021-06-09T19:24:30.624Z"
   },
   {
    "duration": 248,
    "start_time": "2021-06-09T19:24:38.196Z"
   },
   {
    "duration": 273,
    "start_time": "2021-06-09T19:25:31.059Z"
   },
   {
    "duration": 3,
    "start_time": "2021-06-09T19:26:28.333Z"
   },
   {
    "duration": 257,
    "start_time": "2021-06-09T19:26:37.740Z"
   },
   {
    "duration": 1516,
    "start_time": "2021-06-09T19:26:51.796Z"
   },
   {
    "duration": 3,
    "start_time": "2021-06-09T19:26:53.315Z"
   },
   {
    "duration": 38,
    "start_time": "2021-06-09T19:26:53.324Z"
   },
   {
    "duration": 26,
    "start_time": "2021-06-09T19:26:53.364Z"
   },
   {
    "duration": 4,
    "start_time": "2021-06-09T19:26:53.392Z"
   },
   {
    "duration": 55,
    "start_time": "2021-06-09T19:26:53.399Z"
   },
   {
    "duration": 4,
    "start_time": "2021-06-09T19:27:19.686Z"
   },
   {
    "duration": 6,
    "start_time": "2021-06-09T19:27:34.759Z"
   },
   {
    "duration": 19,
    "start_time": "2021-06-09T19:27:37.537Z"
   },
   {
    "duration": 2179,
    "start_time": "2021-06-09T19:27:53.389Z"
   },
   {
    "duration": 3,
    "start_time": "2021-06-09T19:27:55.571Z"
   },
   {
    "duration": 39,
    "start_time": "2021-06-09T19:27:55.577Z"
   },
   {
    "duration": 37,
    "start_time": "2021-06-09T19:27:55.619Z"
   },
   {
    "duration": 5,
    "start_time": "2021-06-09T19:27:55.659Z"
   },
   {
    "duration": 8,
    "start_time": "2021-06-09T19:27:55.667Z"
   },
   {
    "duration": 36,
    "start_time": "2021-06-09T19:27:55.678Z"
   },
   {
    "duration": 4,
    "start_time": "2021-06-09T19:28:27.426Z"
   },
   {
    "duration": 5,
    "start_time": "2021-06-09T19:28:28.304Z"
   },
   {
    "duration": 20,
    "start_time": "2021-06-09T19:28:29.508Z"
   },
   {
    "duration": 1710,
    "start_time": "2021-06-09T19:28:40.954Z"
   },
   {
    "duration": 4,
    "start_time": "2021-06-09T19:28:42.668Z"
   },
   {
    "duration": 33,
    "start_time": "2021-06-09T19:28:42.675Z"
   },
   {
    "duration": 54,
    "start_time": "2021-06-09T19:28:42.711Z"
   },
   {
    "duration": 6,
    "start_time": "2021-06-09T19:28:42.768Z"
   },
   {
    "duration": 8,
    "start_time": "2021-06-09T19:28:42.778Z"
   },
   {
    "duration": 79,
    "start_time": "2021-06-09T19:28:42.789Z"
   },
   {
    "duration": 3,
    "start_time": "2021-06-09T19:29:57.823Z"
   },
   {
    "duration": 29,
    "start_time": "2021-06-09T19:29:59.903Z"
   },
   {
    "duration": 8,
    "start_time": "2021-06-09T19:35:53.236Z"
   },
   {
    "duration": 28,
    "start_time": "2021-06-09T19:36:21.956Z"
   },
   {
    "duration": 24,
    "start_time": "2021-06-09T19:37:17.611Z"
   },
   {
    "duration": 10,
    "start_time": "2021-06-09T19:37:32.022Z"
   },
   {
    "duration": 15,
    "start_time": "2021-06-09T19:37:42.010Z"
   },
   {
    "duration": 1619,
    "start_time": "2021-06-10T10:12:44.484Z"
   },
   {
    "duration": 3,
    "start_time": "2021-06-10T10:12:46.106Z"
   },
   {
    "duration": 28,
    "start_time": "2021-06-10T10:12:46.112Z"
   },
   {
    "duration": 25,
    "start_time": "2021-06-10T10:12:46.142Z"
   },
   {
    "duration": 3,
    "start_time": "2021-06-10T10:12:46.169Z"
   },
   {
    "duration": 20,
    "start_time": "2021-06-10T10:12:46.174Z"
   },
   {
    "duration": 33,
    "start_time": "2021-06-10T10:12:46.196Z"
   },
   {
    "duration": 21,
    "start_time": "2021-06-10T10:12:46.231Z"
   },
   {
    "duration": 101,
    "start_time": "2021-06-10T10:13:24.500Z"
   },
   {
    "duration": 73,
    "start_time": "2021-06-10T10:17:01.583Z"
   },
   {
    "duration": 525,
    "start_time": "2021-06-10T10:51:06.331Z"
   },
   {
    "duration": 25,
    "start_time": "2021-06-10T10:51:15.027Z"
   },
   {
    "duration": 32,
    "start_time": "2021-06-10T10:51:26.221Z"
   },
   {
    "duration": 30,
    "start_time": "2021-06-10T11:55:51.933Z"
   },
   {
    "duration": 24,
    "start_time": "2021-06-10T11:56:01.460Z"
   },
   {
    "duration": 29,
    "start_time": "2021-06-10T11:56:09.087Z"
   },
   {
    "duration": 463,
    "start_time": "2021-06-10T12:10:13.731Z"
   },
   {
    "duration": 10,
    "start_time": "2021-06-10T12:10:29.750Z"
   },
   {
    "duration": 5,
    "start_time": "2021-06-10T12:12:32.478Z"
   },
   {
    "duration": 4,
    "start_time": "2021-06-10T12:12:51.007Z"
   },
   {
    "duration": 11,
    "start_time": "2021-06-10T12:13:54.456Z"
   },
   {
    "duration": 13,
    "start_time": "2021-06-10T12:14:12.347Z"
   },
   {
    "duration": 2192,
    "start_time": "2021-06-10T12:20:27.668Z"
   },
   {
    "duration": 2237,
    "start_time": "2021-06-10T12:22:26.504Z"
   },
   {
    "duration": 2159,
    "start_time": "2021-06-10T12:24:28.916Z"
   },
   {
    "duration": 2910,
    "start_time": "2021-06-10T12:25:47.745Z"
   },
   {
    "duration": 2341,
    "start_time": "2021-06-10T12:26:04.440Z"
   },
   {
    "duration": 1558,
    "start_time": "2021-06-10T13:57:47.251Z"
   },
   {
    "duration": 4,
    "start_time": "2021-06-10T13:57:48.812Z"
   },
   {
    "duration": 26,
    "start_time": "2021-06-10T13:57:48.827Z"
   },
   {
    "duration": 27,
    "start_time": "2021-06-10T13:57:48.856Z"
   },
   {
    "duration": 4,
    "start_time": "2021-06-10T13:57:48.887Z"
   },
   {
    "duration": 49,
    "start_time": "2021-06-10T13:57:48.893Z"
   },
   {
    "duration": 4,
    "start_time": "2021-06-10T13:57:48.945Z"
   },
   {
    "duration": 25,
    "start_time": "2021-06-10T13:57:48.951Z"
   },
   {
    "duration": 107,
    "start_time": "2021-06-10T13:57:48.980Z"
   },
   {
    "duration": 38,
    "start_time": "2021-06-10T13:57:49.090Z"
   },
   {
    "duration": 10,
    "start_time": "2021-06-10T13:57:49.131Z"
   },
   {
    "duration": 2042,
    "start_time": "2021-06-10T13:57:49.143Z"
   },
   {
    "duration": 5,
    "start_time": "2021-06-10T13:57:51.188Z"
   },
   {
    "duration": 10,
    "start_time": "2021-06-10T13:58:57.163Z"
   },
   {
    "duration": 525,
    "start_time": "2021-06-10T14:00:37.311Z"
   },
   {
    "duration": 10,
    "start_time": "2021-06-10T14:00:56.819Z"
   },
   {
    "duration": 7,
    "start_time": "2021-06-10T14:02:19.358Z"
   },
   {
    "duration": 3,
    "start_time": "2021-06-10T14:03:00.304Z"
   },
   {
    "duration": 48,
    "start_time": "2021-06-10T14:03:34.036Z"
   },
   {
    "duration": 7,
    "start_time": "2021-06-10T14:07:08.945Z"
   },
   {
    "duration": 11,
    "start_time": "2021-06-10T14:10:39.469Z"
   },
   {
    "duration": 389,
    "start_time": "2021-06-10T14:15:20.663Z"
   },
   {
    "duration": 58,
    "start_time": "2021-06-10T14:16:37.749Z"
   },
   {
    "duration": 60,
    "start_time": "2021-06-10T14:17:12.860Z"
   },
   {
    "duration": 11,
    "start_time": "2021-06-10T14:18:26.987Z"
   },
   {
    "duration": 13,
    "start_time": "2021-06-10T14:18:39.204Z"
   },
   {
    "duration": 11,
    "start_time": "2021-06-10T14:18:40.689Z"
   },
   {
    "duration": 58,
    "start_time": "2021-06-10T14:19:10.067Z"
   },
   {
    "duration": 13,
    "start_time": "2021-06-10T14:19:11.367Z"
   },
   {
    "duration": 89,
    "start_time": "2021-06-10T14:20:09.239Z"
   },
   {
    "duration": 12,
    "start_time": "2021-06-10T14:20:10.700Z"
   },
   {
    "duration": 57,
    "start_time": "2021-06-10T14:20:12.737Z"
   },
   {
    "duration": 14,
    "start_time": "2021-06-10T14:20:13.659Z"
   },
   {
    "duration": 81,
    "start_time": "2021-06-10T14:24:04.545Z"
   },
   {
    "duration": 11,
    "start_time": "2021-06-10T14:24:05.354Z"
   },
   {
    "duration": 59,
    "start_time": "2021-06-10T14:24:06.547Z"
   },
   {
    "duration": 11,
    "start_time": "2021-06-10T14:24:08.217Z"
   },
   {
    "duration": 12,
    "start_time": "2021-06-10T14:36:07.765Z"
   },
   {
    "duration": 58,
    "start_time": "2021-06-10T14:36:11.376Z"
   },
   {
    "duration": 10,
    "start_time": "2021-06-10T14:36:12.187Z"
   },
   {
    "duration": 1509,
    "start_time": "2021-06-10T18:30:58.285Z"
   },
   {
    "duration": 3,
    "start_time": "2021-06-10T18:30:59.797Z"
   },
   {
    "duration": 41,
    "start_time": "2021-06-10T18:30:59.802Z"
   },
   {
    "duration": 24,
    "start_time": "2021-06-10T18:30:59.846Z"
   },
   {
    "duration": 4,
    "start_time": "2021-06-10T18:30:59.873Z"
   },
   {
    "duration": 19,
    "start_time": "2021-06-10T18:30:59.879Z"
   },
   {
    "duration": 34,
    "start_time": "2021-06-10T18:30:59.900Z"
   },
   {
    "duration": 22,
    "start_time": "2021-06-10T18:30:59.936Z"
   },
   {
    "duration": 100,
    "start_time": "2021-06-10T18:30:59.961Z"
   },
   {
    "duration": 29,
    "start_time": "2021-06-10T18:31:00.063Z"
   },
   {
    "duration": 10,
    "start_time": "2021-06-10T18:31:00.094Z"
   },
   {
    "duration": 2017,
    "start_time": "2021-06-10T18:31:00.129Z"
   },
   {
    "duration": 5,
    "start_time": "2021-06-10T18:31:02.149Z"
   },
   {
    "duration": 19,
    "start_time": "2021-06-10T18:31:02.156Z"
   },
   {
    "duration": 19,
    "start_time": "2021-06-10T18:31:02.178Z"
   },
   {
    "duration": 9,
    "start_time": "2021-06-10T18:31:02.199Z"
   },
   {
    "duration": 54,
    "start_time": "2021-06-10T18:31:02.223Z"
   },
   {
    "duration": 147,
    "start_time": "2021-06-10T18:31:02.280Z"
   },
   {
    "duration": 59,
    "start_time": "2021-06-10T18:31:02.431Z"
   },
   {
    "duration": 33,
    "start_time": "2021-06-10T18:31:02.493Z"
   },
   {
    "duration": 840,
    "start_time": "2021-06-10T18:31:16.110Z"
   },
   {
    "duration": 1498,
    "start_time": "2021-06-10T18:33:05.296Z"
   },
   {
    "duration": 3,
    "start_time": "2021-06-10T18:33:06.797Z"
   },
   {
    "duration": 39,
    "start_time": "2021-06-10T18:33:06.806Z"
   },
   {
    "duration": 32,
    "start_time": "2021-06-10T18:33:06.847Z"
   },
   {
    "duration": 3,
    "start_time": "2021-06-10T18:33:06.882Z"
   },
   {
    "duration": 42,
    "start_time": "2021-06-10T18:33:06.887Z"
   },
   {
    "duration": 5,
    "start_time": "2021-06-10T18:33:06.934Z"
   },
   {
    "duration": 23,
    "start_time": "2021-06-10T18:33:06.943Z"
   },
   {
    "duration": 108,
    "start_time": "2021-06-10T18:33:06.969Z"
   },
   {
    "duration": 50,
    "start_time": "2021-06-10T18:33:07.080Z"
   },
   {
    "duration": 10,
    "start_time": "2021-06-10T18:33:07.133Z"
   },
   {
    "duration": 2085,
    "start_time": "2021-06-10T18:33:07.145Z"
   },
   {
    "duration": 5,
    "start_time": "2021-06-10T18:33:09.233Z"
   },
   {
    "duration": 16,
    "start_time": "2021-06-10T18:33:09.241Z"
   },
   {
    "duration": 9,
    "start_time": "2021-06-10T18:33:09.259Z"
   },
   {
    "duration": 7,
    "start_time": "2021-06-10T18:33:09.270Z"
   },
   {
    "duration": 86,
    "start_time": "2021-06-10T18:33:09.280Z"
   },
   {
    "duration": 72,
    "start_time": "2021-06-10T18:33:09.368Z"
   },
   {
    "duration": 144,
    "start_time": "2021-06-10T18:33:09.442Z"
   },
   {
    "duration": 10,
    "start_time": "2021-06-10T18:33:09.589Z"
   },
   {
    "duration": 892,
    "start_time": "2021-06-10T18:33:09.602Z"
   },
   {
    "duration": 135746,
    "start_time": "2021-06-10T18:33:10.498Z"
   },
   {
    "duration": 136056,
    "start_time": "2021-06-10T18:36:18.056Z"
   },
   {
    "duration": 980,
    "start_time": "2021-06-10T18:38:34.114Z"
   },
   {
    "duration": 973,
    "start_time": "2021-06-10T18:41:42.913Z"
   },
   {
    "duration": 775,
    "start_time": "2021-06-10T18:42:00.711Z"
   },
   {
    "duration": 963,
    "start_time": "2021-06-10T18:42:10.677Z"
   },
   {
    "duration": 861,
    "start_time": "2021-06-10T18:42:53.733Z"
   },
   {
    "duration": 436,
    "start_time": "2021-06-10T18:52:05.347Z"
   },
   {
    "duration": 847,
    "start_time": "2021-06-10T18:52:14.300Z"
   },
   {
    "duration": 1429,
    "start_time": "2021-06-10T18:52:22.478Z"
   },
   {
    "duration": 2248,
    "start_time": "2021-06-10T18:55:38.511Z"
   },
   {
    "duration": 1453,
    "start_time": "2021-06-10T18:55:43.618Z"
   },
   {
    "duration": 837,
    "start_time": "2021-06-10T18:56:45.224Z"
   },
   {
    "duration": 136327,
    "start_time": "2021-06-10T18:57:03.169Z"
   },
   {
    "duration": 854,
    "start_time": "2021-06-10T19:00:45.254Z"
   },
   {
    "duration": 2227,
    "start_time": "2021-06-10T19:13:27.627Z"
   },
   {
    "duration": 867,
    "start_time": "2021-06-10T19:13:32.137Z"
   },
   {
    "duration": 9,
    "start_time": "2021-06-10T19:17:04.673Z"
   },
   {
    "duration": 1093,
    "start_time": "2021-06-10T19:17:05.438Z"
   },
   {
    "duration": 825,
    "start_time": "2021-06-10T19:17:07.430Z"
   },
   {
    "duration": 861,
    "start_time": "2021-06-10T19:17:10.681Z"
   },
   {
    "duration": 1486,
    "start_time": "2021-06-10T19:17:31.550Z"
   },
   {
    "duration": 7,
    "start_time": "2021-06-10T19:17:33.039Z"
   },
   {
    "duration": 29,
    "start_time": "2021-06-10T19:17:33.049Z"
   },
   {
    "duration": 26,
    "start_time": "2021-06-10T19:17:33.080Z"
   },
   {
    "duration": 19,
    "start_time": "2021-06-10T19:17:33.109Z"
   },
   {
    "duration": 32,
    "start_time": "2021-06-10T19:17:33.131Z"
   },
   {
    "duration": 6,
    "start_time": "2021-06-10T19:17:33.166Z"
   },
   {
    "duration": 52,
    "start_time": "2021-06-10T19:17:33.175Z"
   },
   {
    "duration": 78,
    "start_time": "2021-06-10T19:17:33.234Z"
   },
   {
    "duration": 33,
    "start_time": "2021-06-10T19:17:33.324Z"
   },
   {
    "duration": 8,
    "start_time": "2021-06-10T19:17:33.360Z"
   },
   {
    "duration": 2096,
    "start_time": "2021-06-10T19:17:33.370Z"
   },
   {
    "duration": 6,
    "start_time": "2021-06-10T19:17:35.468Z"
   },
   {
    "duration": 12,
    "start_time": "2021-06-10T19:17:35.476Z"
   },
   {
    "duration": 41,
    "start_time": "2021-06-10T19:17:35.490Z"
   },
   {
    "duration": 8,
    "start_time": "2021-06-10T19:17:35.534Z"
   },
   {
    "duration": 179,
    "start_time": "2021-06-10T19:17:35.545Z"
   },
   {
    "duration": 15,
    "start_time": "2021-06-10T19:17:35.727Z"
   },
   {
    "duration": 88,
    "start_time": "2021-06-10T19:17:35.744Z"
   },
   {
    "duration": 12,
    "start_time": "2021-06-10T19:17:35.835Z"
   },
   {
    "duration": 11,
    "start_time": "2021-06-10T19:17:35.849Z"
   },
   {
    "duration": 1680,
    "start_time": "2021-06-10T19:17:35.862Z"
   },
   {
    "duration": 826,
    "start_time": "2021-06-10T19:17:37.544Z"
   },
   {
    "duration": 981,
    "start_time": "2021-06-10T19:17:38.372Z"
   },
   {
    "duration": 430,
    "start_time": "2021-06-10T19:34:31.342Z"
   },
   {
    "duration": 8,
    "start_time": "2021-06-10T19:35:24.598Z"
   },
   {
    "duration": 27,
    "start_time": "2021-06-10T19:37:14.657Z"
   },
   {
    "duration": 31,
    "start_time": "2021-06-10T19:38:04.540Z"
   },
   {
    "duration": 25,
    "start_time": "2021-06-10T19:39:55.691Z"
   },
   {
    "duration": 110,
    "start_time": "2021-06-10T19:40:16.019Z"
   },
   {
    "duration": 24,
    "start_time": "2021-06-10T19:42:14.742Z"
   },
   {
    "duration": 295,
    "start_time": "2021-06-10T20:03:50.219Z"
   },
   {
    "duration": 260,
    "start_time": "2021-06-10T20:04:05.508Z"
   },
   {
    "duration": 23,
    "start_time": "2021-06-10T20:04:14.486Z"
   },
   {
    "duration": 18,
    "start_time": "2021-06-10T20:06:54.900Z"
   },
   {
    "duration": 22,
    "start_time": "2021-06-10T20:07:03.595Z"
   },
   {
    "duration": 263,
    "start_time": "2021-06-10T20:17:22.226Z"
   },
   {
    "duration": 1621,
    "start_time": "2021-06-10T20:17:32.026Z"
   },
   {
    "duration": 26,
    "start_time": "2021-06-10T20:17:34.713Z"
   },
   {
    "duration": 22,
    "start_time": "2021-06-10T20:17:51.139Z"
   },
   {
    "duration": 1490,
    "start_time": "2021-06-10T20:21:08.644Z"
   },
   {
    "duration": 852,
    "start_time": "2021-06-10T20:21:11.737Z"
   },
   {
    "duration": 880,
    "start_time": "2021-06-10T20:21:13.031Z"
   },
   {
    "duration": 1465,
    "start_time": "2021-06-10T20:21:24.867Z"
   },
   {
    "duration": 25,
    "start_time": "2021-06-10T20:21:27.881Z"
   },
   {
    "duration": 10,
    "start_time": "2021-06-10T20:23:37.134Z"
   },
   {
    "duration": 1366,
    "start_time": "2021-06-10T20:23:38.166Z"
   },
   {
    "duration": 828,
    "start_time": "2021-06-10T20:23:40.440Z"
   },
   {
    "duration": 860,
    "start_time": "2021-06-10T20:23:41.430Z"
   },
   {
    "duration": 1726,
    "start_time": "2021-06-10T20:23:53.930Z"
   },
   {
    "duration": 4,
    "start_time": "2021-06-10T20:23:55.659Z"
   },
   {
    "duration": 28,
    "start_time": "2021-06-10T20:23:55.666Z"
   },
   {
    "duration": 35,
    "start_time": "2021-06-10T20:23:55.697Z"
   },
   {
    "duration": 8,
    "start_time": "2021-06-10T20:23:55.735Z"
   },
   {
    "duration": 28,
    "start_time": "2021-06-10T20:23:55.745Z"
   },
   {
    "duration": 5,
    "start_time": "2021-06-10T20:23:55.776Z"
   },
   {
    "duration": 58,
    "start_time": "2021-06-10T20:23:55.784Z"
   },
   {
    "duration": 113,
    "start_time": "2021-06-10T20:23:55.847Z"
   },
   {
    "duration": 37,
    "start_time": "2021-06-10T20:23:55.964Z"
   },
   {
    "duration": 35,
    "start_time": "2021-06-10T20:23:56.004Z"
   },
   {
    "duration": 2119,
    "start_time": "2021-06-10T20:23:56.041Z"
   },
   {
    "duration": 6,
    "start_time": "2021-06-10T20:23:58.162Z"
   },
   {
    "duration": 10,
    "start_time": "2021-06-10T20:23:58.170Z"
   },
   {
    "duration": 9,
    "start_time": "2021-06-10T20:23:58.183Z"
   },
   {
    "duration": 12,
    "start_time": "2021-06-10T20:23:58.224Z"
   },
   {
    "duration": 186,
    "start_time": "2021-06-10T20:23:58.240Z"
   },
   {
    "duration": 21,
    "start_time": "2021-06-10T20:23:58.428Z"
   },
   {
    "duration": 56,
    "start_time": "2021-06-10T20:23:58.451Z"
   },
   {
    "duration": 33,
    "start_time": "2021-06-10T20:23:58.509Z"
   },
   {
    "duration": 10,
    "start_time": "2021-06-10T20:23:58.545Z"
   },
   {
    "duration": 1380,
    "start_time": "2021-06-10T20:23:58.558Z"
   },
   {
    "duration": 935,
    "start_time": "2021-06-10T20:23:59.941Z"
   },
   {
    "duration": 861,
    "start_time": "2021-06-10T20:24:00.878Z"
   },
   {
    "duration": 1296,
    "start_time": "2021-06-10T20:24:01.741Z"
   },
   {
    "duration": 111,
    "start_time": "2021-06-10T20:24:03.046Z"
   },
   {
    "duration": 23,
    "start_time": "2021-06-10T20:24:03.162Z"
   },
   {
    "duration": 8,
    "start_time": "2021-06-10T20:24:55.158Z"
   },
   {
    "duration": 1342,
    "start_time": "2021-06-10T20:24:56.205Z"
   },
   {
    "duration": 851,
    "start_time": "2021-06-10T20:24:58.566Z"
   },
   {
    "duration": 943,
    "start_time": "2021-06-10T20:24:59.443Z"
   },
   {
    "duration": 1458,
    "start_time": "2021-06-10T20:25:22.980Z"
   },
   {
    "duration": 27,
    "start_time": "2021-06-10T20:25:25.512Z"
   },
   {
    "duration": 24,
    "start_time": "2021-06-10T20:25:38.381Z"
   },
   {
    "duration": 1305,
    "start_time": "2021-06-10T20:26:41.440Z"
   },
   {
    "duration": 24,
    "start_time": "2021-06-10T20:26:43.767Z"
   },
   {
    "duration": 23,
    "start_time": "2021-06-10T20:26:51.339Z"
   },
   {
    "duration": 21,
    "start_time": "2021-06-10T20:31:36.741Z"
   },
   {
    "duration": 137383,
    "start_time": "2021-06-10T20:32:24.475Z"
   },
   {
    "duration": 900,
    "start_time": "2021-06-10T20:34:57.847Z"
   },
   {
    "duration": 86,
    "start_time": "2021-06-10T20:35:35.974Z"
   },
   {
    "duration": 845,
    "start_time": "2021-06-10T20:35:41.295Z"
   },
   {
    "duration": 1553,
    "start_time": "2021-06-10T20:40:29.767Z"
   },
   {
    "duration": 11,
    "start_time": "2021-06-10T20:40:31.322Z"
   },
   {
    "duration": 51,
    "start_time": "2021-06-10T20:40:31.336Z"
   },
   {
    "duration": 26,
    "start_time": "2021-06-10T20:40:31.390Z"
   },
   {
    "duration": 4,
    "start_time": "2021-06-10T20:40:31.419Z"
   },
   {
    "duration": 32,
    "start_time": "2021-06-10T20:40:31.426Z"
   },
   {
    "duration": 5,
    "start_time": "2021-06-10T20:40:31.461Z"
   },
   {
    "duration": 25,
    "start_time": "2021-06-10T20:40:31.469Z"
   },
   {
    "duration": 97,
    "start_time": "2021-06-10T20:40:31.498Z"
   },
   {
    "duration": 37,
    "start_time": "2021-06-10T20:40:31.598Z"
   },
   {
    "duration": 10,
    "start_time": "2021-06-10T20:40:31.638Z"
   },
   {
    "duration": 2090,
    "start_time": "2021-06-10T20:40:31.651Z"
   },
   {
    "duration": 5,
    "start_time": "2021-06-10T20:40:33.743Z"
   },
   {
    "duration": 11,
    "start_time": "2021-06-10T20:40:33.751Z"
   },
   {
    "duration": 11,
    "start_time": "2021-06-10T20:40:33.764Z"
   },
   {
    "duration": 7,
    "start_time": "2021-06-10T20:40:33.778Z"
   },
   {
    "duration": 155,
    "start_time": "2021-06-10T20:40:33.788Z"
   },
   {
    "duration": 86,
    "start_time": "2021-06-10T20:40:33.946Z"
   },
   {
    "duration": 61,
    "start_time": "2021-06-10T20:40:34.034Z"
   },
   {
    "duration": 45,
    "start_time": "2021-06-10T20:40:34.098Z"
   },
   {
    "duration": 9,
    "start_time": "2021-06-10T20:40:34.145Z"
   },
   {
    "duration": 1573,
    "start_time": "2021-06-10T20:40:34.156Z"
   },
   {
    "duration": 874,
    "start_time": "2021-06-10T20:40:35.736Z"
   },
   {
    "duration": 821,
    "start_time": "2021-06-10T20:40:36.613Z"
   },
   {
    "duration": 25,
    "start_time": "2021-06-10T20:40:37.436Z"
   },
   {
    "duration": 23,
    "start_time": "2021-06-10T20:40:37.463Z"
   },
   {
    "duration": 7808,
    "start_time": "2021-06-10T20:51:46.183Z"
   },
   {
    "duration": 7568,
    "start_time": "2021-06-10T20:52:43.886Z"
   },
   {
    "duration": 7704,
    "start_time": "2021-06-10T20:52:59.041Z"
   },
   {
    "duration": 7203,
    "start_time": "2021-06-10T20:53:19.987Z"
   },
   {
    "duration": 6662,
    "start_time": "2021-06-10T20:53:50.024Z"
   },
   {
    "duration": 1607,
    "start_time": "2021-06-10T20:55:08.776Z"
   },
   {
    "duration": 3,
    "start_time": "2021-06-10T20:55:10.386Z"
   },
   {
    "duration": 32,
    "start_time": "2021-06-10T20:55:10.392Z"
   },
   {
    "duration": 28,
    "start_time": "2021-06-10T20:55:10.429Z"
   },
   {
    "duration": 4,
    "start_time": "2021-06-10T20:55:10.460Z"
   },
   {
    "duration": 20,
    "start_time": "2021-06-10T20:55:10.466Z"
   },
   {
    "duration": 10,
    "start_time": "2021-06-10T20:55:10.489Z"
   },
   {
    "duration": 20,
    "start_time": "2021-06-10T20:55:10.534Z"
   },
   {
    "duration": 94,
    "start_time": "2021-06-10T20:55:10.557Z"
   },
   {
    "duration": 28,
    "start_time": "2021-06-10T20:55:10.654Z"
   },
   {
    "duration": 9,
    "start_time": "2021-06-10T20:55:10.685Z"
   },
   {
    "duration": 6075,
    "start_time": "2021-06-10T20:55:10.696Z"
   },
   {
    "duration": 2186,
    "start_time": "2021-06-10T20:55:16.774Z"
   },
   {
    "duration": 5,
    "start_time": "2021-06-10T20:55:18.962Z"
   },
   {
    "duration": 14,
    "start_time": "2021-06-10T20:55:18.969Z"
   },
   {
    "duration": 11,
    "start_time": "2021-06-10T20:55:18.985Z"
   },
   {
    "duration": 8,
    "start_time": "2021-06-10T20:55:19.023Z"
   },
   {
    "duration": 96,
    "start_time": "2021-06-10T20:55:19.033Z"
   },
   {
    "duration": 110,
    "start_time": "2021-06-10T20:55:19.132Z"
   },
   {
    "duration": 55,
    "start_time": "2021-06-10T20:55:19.244Z"
   },
   {
    "duration": 33,
    "start_time": "2021-06-10T20:55:19.301Z"
   },
   {
    "duration": 8,
    "start_time": "2021-06-10T20:55:19.337Z"
   },
   {
    "duration": 1386,
    "start_time": "2021-06-10T20:55:19.349Z"
   },
   {
    "duration": 910,
    "start_time": "2021-06-10T20:55:20.738Z"
   },
   {
    "duration": 869,
    "start_time": "2021-06-10T20:55:21.650Z"
   },
   {
    "duration": 25,
    "start_time": "2021-06-10T20:55:22.524Z"
   },
   {
    "duration": 23,
    "start_time": "2021-06-10T20:55:22.552Z"
   },
   {
    "duration": 6447,
    "start_time": "2021-06-10T20:57:44.770Z"
   },
   {
    "duration": 426,
    "start_time": "2021-06-10T20:59:17.908Z"
   },
   {
    "duration": 298,
    "start_time": "2021-06-10T21:00:04.595Z"
   },
   {
    "duration": 314,
    "start_time": "2021-06-10T21:00:30.437Z"
   },
   {
    "duration": 9006,
    "start_time": "2021-06-10T21:00:42.745Z"
   },
   {
    "duration": 9073,
    "start_time": "2021-06-10T21:02:25.109Z"
   },
   {
    "duration": 10226,
    "start_time": "2021-06-10T21:02:55.854Z"
   },
   {
    "duration": 1680,
    "start_time": "2021-06-10T21:04:33.133Z"
   },
   {
    "duration": 8,
    "start_time": "2021-06-10T21:04:34.816Z"
   },
   {
    "duration": 31,
    "start_time": "2021-06-10T21:04:34.832Z"
   },
   {
    "duration": 30,
    "start_time": "2021-06-10T21:04:34.865Z"
   },
   {
    "duration": 3,
    "start_time": "2021-06-10T21:04:34.898Z"
   },
   {
    "duration": 39,
    "start_time": "2021-06-10T21:04:34.904Z"
   },
   {
    "duration": 5,
    "start_time": "2021-06-10T21:04:34.946Z"
   },
   {
    "duration": 25,
    "start_time": "2021-06-10T21:04:34.954Z"
   },
   {
    "duration": 100,
    "start_time": "2021-06-10T21:04:34.983Z"
   },
   {
    "duration": 45,
    "start_time": "2021-06-10T21:04:35.086Z"
   },
   {
    "duration": 13,
    "start_time": "2021-06-10T21:04:35.133Z"
   },
   {
    "duration": 1637,
    "start_time": "2021-06-10T21:05:00.764Z"
   },
   {
    "duration": 4,
    "start_time": "2021-06-10T21:05:02.404Z"
   },
   {
    "duration": 46,
    "start_time": "2021-06-10T21:05:02.410Z"
   },
   {
    "duration": 33,
    "start_time": "2021-06-10T21:05:02.460Z"
   },
   {
    "duration": 19,
    "start_time": "2021-06-10T21:05:02.496Z"
   },
   {
    "duration": 35,
    "start_time": "2021-06-10T21:05:02.517Z"
   },
   {
    "duration": 5,
    "start_time": "2021-06-10T21:05:02.555Z"
   },
   {
    "duration": 31,
    "start_time": "2021-06-10T21:05:02.564Z"
   },
   {
    "duration": 88,
    "start_time": "2021-06-10T21:05:02.599Z"
   },
   {
    "duration": 46,
    "start_time": "2021-06-10T21:05:02.690Z"
   },
   {
    "duration": 11,
    "start_time": "2021-06-10T21:05:02.738Z"
   },
   {
    "duration": 6248,
    "start_time": "2021-06-10T21:05:02.752Z"
   },
   {
    "duration": 2141,
    "start_time": "2021-06-10T21:05:09.003Z"
   },
   {
    "duration": 6,
    "start_time": "2021-06-10T21:05:11.149Z"
   },
   {
    "duration": 13,
    "start_time": "2021-06-10T21:05:11.157Z"
   },
   {
    "duration": 11,
    "start_time": "2021-06-10T21:05:11.173Z"
   },
   {
    "duration": 8,
    "start_time": "2021-06-10T21:05:11.187Z"
   },
   {
    "duration": 53,
    "start_time": "2021-06-10T21:05:11.231Z"
   },
   {
    "duration": 56,
    "start_time": "2021-06-10T21:05:11.286Z"
   },
   {
    "duration": 134,
    "start_time": "2021-06-10T21:05:11.348Z"
   },
   {
    "duration": 42,
    "start_time": "2021-06-10T21:05:11.484Z"
   },
   {
    "duration": 14,
    "start_time": "2021-06-10T21:05:11.529Z"
   },
   {
    "duration": 1489,
    "start_time": "2021-06-10T21:05:11.549Z"
   },
   {
    "duration": 1030,
    "start_time": "2021-06-10T21:05:13.041Z"
   },
   {
    "duration": 869,
    "start_time": "2021-06-10T21:05:14.074Z"
   },
   {
    "duration": 25,
    "start_time": "2021-06-10T21:05:14.946Z"
   },
   {
    "duration": 59,
    "start_time": "2021-06-10T21:05:14.974Z"
   },
   {
    "duration": 434,
    "start_time": "2021-06-10T21:09:32.383Z"
   },
   {
    "duration": 6797,
    "start_time": "2021-06-10T21:10:23.856Z"
   },
   {
    "duration": 276,
    "start_time": "2021-06-10T21:11:23.680Z"
   },
   {
    "duration": 6522,
    "start_time": "2021-06-10T21:11:34.624Z"
   },
   {
    "duration": 285,
    "start_time": "2021-06-10T21:13:10.038Z"
   },
   {
    "duration": 6839,
    "start_time": "2021-06-10T21:13:21.297Z"
   },
   {
    "duration": 9074,
    "start_time": "2021-06-10T21:14:01.037Z"
   },
   {
    "duration": 9455,
    "start_time": "2021-06-10T21:14:25.615Z"
   },
   {
    "duration": 9202,
    "start_time": "2021-06-10T21:14:37.057Z"
   },
   {
    "duration": 1584,
    "start_time": "2021-06-10T21:15:08.731Z"
   },
   {
    "duration": 7,
    "start_time": "2021-06-10T21:15:10.317Z"
   },
   {
    "duration": 37,
    "start_time": "2021-06-10T21:15:10.327Z"
   },
   {
    "duration": 38,
    "start_time": "2021-06-10T21:15:10.368Z"
   },
   {
    "duration": 23,
    "start_time": "2021-06-10T21:15:10.409Z"
   },
   {
    "duration": 21,
    "start_time": "2021-06-10T21:15:10.435Z"
   },
   {
    "duration": 13,
    "start_time": "2021-06-10T21:15:10.458Z"
   },
   {
    "duration": 29,
    "start_time": "2021-06-10T21:15:10.473Z"
   },
   {
    "duration": 80,
    "start_time": "2021-06-10T21:15:10.506Z"
   },
   {
    "duration": 52,
    "start_time": "2021-06-10T21:15:10.589Z"
   },
   {
    "duration": 9,
    "start_time": "2021-06-10T21:15:10.644Z"
   },
   {
    "duration": 7014,
    "start_time": "2021-06-10T21:15:10.655Z"
   },
   {
    "duration": 2112,
    "start_time": "2021-06-10T21:15:17.672Z"
   },
   {
    "duration": 6,
    "start_time": "2021-06-10T21:15:19.786Z"
   },
   {
    "duration": 39,
    "start_time": "2021-06-10T21:15:19.794Z"
   },
   {
    "duration": 13,
    "start_time": "2021-06-10T21:15:19.836Z"
   },
   {
    "duration": 8,
    "start_time": "2021-06-10T21:15:19.851Z"
   },
   {
    "duration": 74,
    "start_time": "2021-06-10T21:15:19.861Z"
   },
   {
    "duration": 109,
    "start_time": "2021-06-10T21:15:19.938Z"
   },
   {
    "duration": 135,
    "start_time": "2021-06-10T21:15:20.050Z"
   },
   {
    "duration": 11,
    "start_time": "2021-06-10T21:15:20.188Z"
   },
   {
    "duration": 25,
    "start_time": "2021-06-10T21:15:20.202Z"
   },
   {
    "duration": 1498,
    "start_time": "2021-06-10T21:15:20.231Z"
   },
   {
    "duration": 929,
    "start_time": "2021-06-10T21:15:21.731Z"
   },
   {
    "duration": 871,
    "start_time": "2021-06-10T21:15:22.662Z"
   },
   {
    "duration": 28,
    "start_time": "2021-06-10T21:15:23.535Z"
   },
   {
    "duration": 22,
    "start_time": "2021-06-10T21:15:23.567Z"
   },
   {
    "duration": 19401,
    "start_time": "2021-06-10T21:15:41.057Z"
   },
   {
    "duration": 7547,
    "start_time": "2021-06-10T21:17:41.805Z"
   },
   {
    "duration": 7609,
    "start_time": "2021-06-10T21:19:26.575Z"
   },
   {
    "duration": 7067,
    "start_time": "2021-06-10T21:20:29.081Z"
   },
   {
    "duration": 420,
    "start_time": "2021-06-10T21:25:17.039Z"
   },
   {
    "duration": 7525,
    "start_time": "2021-06-10T21:25:38.538Z"
   },
   {
    "duration": 7001,
    "start_time": "2021-06-10T21:27:05.140Z"
   },
   {
    "duration": 7820,
    "start_time": "2021-06-10T21:27:39.870Z"
   },
   {
    "duration": 8355,
    "start_time": "2021-06-10T21:28:09.356Z"
   },
   {
    "duration": 609,
    "start_time": "2021-06-10T21:30:06.604Z"
   },
   {
    "duration": 466,
    "start_time": "2021-06-10T21:30:42.267Z"
   },
   {
    "duration": 6613,
    "start_time": "2021-06-10T21:31:44.086Z"
   },
   {
    "duration": 8302,
    "start_time": "2021-06-10T21:31:54.738Z"
   },
   {
    "duration": 6812,
    "start_time": "2021-06-10T21:32:18.718Z"
   },
   {
    "duration": 290,
    "start_time": "2021-06-10T21:32:54.522Z"
   },
   {
    "duration": 280,
    "start_time": "2021-06-10T21:33:12.712Z"
   },
   {
    "duration": 292,
    "start_time": "2021-06-10T21:33:25.078Z"
   },
   {
    "duration": 6655,
    "start_time": "2021-06-10T21:34:20.517Z"
   },
   {
    "duration": 12816,
    "start_time": "2021-06-10T21:34:37.033Z"
   },
   {
    "duration": 6684,
    "start_time": "2021-06-10T21:34:59.611Z"
   },
   {
    "duration": 6838,
    "start_time": "2021-06-10T21:39:56.053Z"
   },
   {
    "duration": 6896,
    "start_time": "2021-06-10T21:40:05.512Z"
   },
   {
    "duration": 1617,
    "start_time": "2021-06-10T21:42:37.059Z"
   },
   {
    "duration": 4,
    "start_time": "2021-06-10T21:42:38.678Z"
   },
   {
    "duration": 38,
    "start_time": "2021-06-10T21:42:38.689Z"
   },
   {
    "duration": 26,
    "start_time": "2021-06-10T21:42:38.730Z"
   },
   {
    "duration": 3,
    "start_time": "2021-06-10T21:42:38.759Z"
   },
   {
    "duration": 22,
    "start_time": "2021-06-10T21:42:38.765Z"
   },
   {
    "duration": 33,
    "start_time": "2021-06-10T21:42:38.790Z"
   },
   {
    "duration": 41,
    "start_time": "2021-06-10T21:42:38.827Z"
   },
   {
    "duration": 89,
    "start_time": "2021-06-10T21:42:38.870Z"
   },
   {
    "duration": 28,
    "start_time": "2021-06-10T21:42:38.962Z"
   },
   {
    "duration": 8,
    "start_time": "2021-06-10T21:42:38.992Z"
   },
   {
    "duration": 6049,
    "start_time": "2021-06-10T21:42:39.024Z"
   },
   {
    "duration": 2050,
    "start_time": "2021-06-10T21:42:45.075Z"
   },
   {
    "duration": 9,
    "start_time": "2021-06-10T21:42:47.127Z"
   },
   {
    "duration": 9,
    "start_time": "2021-06-10T21:42:47.140Z"
   },
   {
    "duration": 16,
    "start_time": "2021-06-10T21:42:47.152Z"
   },
   {
    "duration": 17,
    "start_time": "2021-06-10T21:42:47.171Z"
   },
   {
    "duration": 77,
    "start_time": "2021-06-10T21:42:47.191Z"
   },
   {
    "duration": 14,
    "start_time": "2021-06-10T21:42:47.325Z"
   },
   {
    "duration": 140,
    "start_time": "2021-06-10T21:42:47.341Z"
   },
   {
    "duration": 11,
    "start_time": "2021-06-10T21:42:47.484Z"
   },
   {
    "duration": 32,
    "start_time": "2021-06-10T21:42:47.499Z"
   },
   {
    "duration": 1598,
    "start_time": "2021-06-10T21:42:47.541Z"
   },
   {
    "duration": 1303,
    "start_time": "2021-06-10T21:42:49.142Z"
   },
   {
    "duration": 892,
    "start_time": "2021-06-10T21:42:50.449Z"
   },
   {
    "duration": 24,
    "start_time": "2021-06-10T21:42:51.344Z"
   },
   {
    "duration": 21,
    "start_time": "2021-06-10T21:42:51.371Z"
   },
   {
    "duration": 1989,
    "start_time": "2021-06-10T21:48:16.215Z"
   },
   {
    "duration": 4,
    "start_time": "2021-06-10T21:48:18.207Z"
   },
   {
    "duration": 42,
    "start_time": "2021-06-10T21:48:18.215Z"
   },
   {
    "duration": 35,
    "start_time": "2021-06-10T21:48:18.260Z"
   },
   {
    "duration": 4,
    "start_time": "2021-06-10T21:48:18.298Z"
   },
   {
    "duration": 49,
    "start_time": "2021-06-10T21:48:18.305Z"
   },
   {
    "duration": 7,
    "start_time": "2021-06-10T21:48:18.357Z"
   },
   {
    "duration": 37,
    "start_time": "2021-06-10T21:48:18.367Z"
   },
   {
    "duration": 91,
    "start_time": "2021-06-10T21:48:18.408Z"
   },
   {
    "duration": 46,
    "start_time": "2021-06-10T21:48:18.502Z"
   },
   {
    "duration": 9,
    "start_time": "2021-06-10T21:48:18.551Z"
   },
   {
    "duration": 6215,
    "start_time": "2021-06-10T21:48:18.562Z"
   },
   {
    "duration": 2095,
    "start_time": "2021-06-10T21:48:24.780Z"
   },
   {
    "duration": 5,
    "start_time": "2021-06-10T21:48:26.877Z"
   },
   {
    "duration": 13,
    "start_time": "2021-06-10T21:48:26.884Z"
   },
   {
    "duration": 33,
    "start_time": "2021-06-10T21:48:26.899Z"
   },
   {
    "duration": 10,
    "start_time": "2021-06-10T21:48:26.938Z"
   },
   {
    "duration": 99,
    "start_time": "2021-06-10T21:48:26.950Z"
   },
   {
    "duration": 90,
    "start_time": "2021-06-10T21:48:27.053Z"
   },
   {
    "duration": 114,
    "start_time": "2021-06-10T21:48:27.146Z"
   },
   {
    "duration": 12,
    "start_time": "2021-06-10T21:48:27.263Z"
   },
   {
    "duration": 8,
    "start_time": "2021-06-10T21:48:27.277Z"
   },
   {
    "duration": 1655,
    "start_time": "2021-06-10T21:48:27.288Z"
   },
   {
    "duration": 1298,
    "start_time": "2021-06-10T21:48:28.946Z"
   },
   {
    "duration": 1117,
    "start_time": "2021-06-10T21:48:30.247Z"
   },
   {
    "duration": 24,
    "start_time": "2021-06-10T21:48:31.367Z"
   },
   {
    "duration": 1570,
    "start_time": "2021-06-10T21:50:45.213Z"
   },
   {
    "duration": 3,
    "start_time": "2021-06-10T21:50:46.785Z"
   },
   {
    "duration": 30,
    "start_time": "2021-06-10T21:50:46.791Z"
   },
   {
    "duration": 28,
    "start_time": "2021-06-10T21:50:46.825Z"
   },
   {
    "duration": 9,
    "start_time": "2021-06-10T21:50:46.857Z"
   },
   {
    "duration": 21,
    "start_time": "2021-06-10T21:50:46.868Z"
   },
   {
    "duration": 5,
    "start_time": "2021-06-10T21:50:46.891Z"
   },
   {
    "duration": 47,
    "start_time": "2021-06-10T21:50:46.900Z"
   },
   {
    "duration": 100,
    "start_time": "2021-06-10T21:50:46.952Z"
   },
   {
    "duration": 30,
    "start_time": "2021-06-10T21:50:47.055Z"
   },
   {
    "duration": 44,
    "start_time": "2021-06-10T21:50:47.088Z"
   },
   {
    "duration": 6606,
    "start_time": "2021-06-10T21:50:47.134Z"
   },
   {
    "duration": 2223,
    "start_time": "2021-06-10T21:50:53.742Z"
   },
   {
    "duration": 7,
    "start_time": "2021-06-10T21:50:55.968Z"
   },
   {
    "duration": 11,
    "start_time": "2021-06-10T21:50:55.979Z"
   },
   {
    "duration": 37,
    "start_time": "2021-06-10T21:50:55.993Z"
   },
   {
    "duration": 12,
    "start_time": "2021-06-10T21:50:56.033Z"
   },
   {
    "duration": 79,
    "start_time": "2021-06-10T21:50:56.047Z"
   },
   {
    "duration": 13,
    "start_time": "2021-06-10T21:50:56.128Z"
   },
   {
    "duration": 59,
    "start_time": "2021-06-10T21:50:56.236Z"
   },
   {
    "duration": 46,
    "start_time": "2021-06-10T21:50:56.298Z"
   },
   {
    "duration": 8,
    "start_time": "2021-06-10T21:50:56.347Z"
   },
   {
    "duration": 1365,
    "start_time": "2021-06-10T21:50:56.359Z"
   },
   {
    "duration": 928,
    "start_time": "2021-06-10T21:50:57.735Z"
   },
   {
    "duration": 882,
    "start_time": "2021-06-10T21:50:58.665Z"
   },
   {
    "duration": 23,
    "start_time": "2021-06-10T21:50:59.550Z"
   },
   {
    "duration": 1641,
    "start_time": "2021-06-10T21:50:59.576Z"
   },
   {
    "duration": 26,
    "start_time": "2021-06-10T21:51:01.219Z"
   },
   {
    "duration": 103,
    "start_time": "2021-06-10T21:52:50.079Z"
   },
   {
    "duration": 95,
    "start_time": "2021-06-10T21:52:56.738Z"
   },
   {
    "duration": 1595,
    "start_time": "2021-06-10T21:58:22.730Z"
   },
   {
    "duration": 3,
    "start_time": "2021-06-10T21:58:24.330Z"
   },
   {
    "duration": 31,
    "start_time": "2021-06-10T21:58:24.336Z"
   },
   {
    "duration": 27,
    "start_time": "2021-06-10T21:58:24.370Z"
   },
   {
    "duration": 25,
    "start_time": "2021-06-10T21:58:24.399Z"
   },
   {
    "duration": 19,
    "start_time": "2021-06-10T21:58:24.431Z"
   },
   {
    "duration": 4,
    "start_time": "2021-06-10T21:58:24.455Z"
   },
   {
    "duration": 22,
    "start_time": "2021-06-10T21:58:24.463Z"
   },
   {
    "duration": 80,
    "start_time": "2021-06-10T21:58:24.523Z"
   },
   {
    "duration": 35,
    "start_time": "2021-06-10T21:58:24.623Z"
   },
   {
    "duration": 9,
    "start_time": "2021-06-10T21:58:24.660Z"
   },
   {
    "duration": 7185,
    "start_time": "2021-06-10T21:58:24.672Z"
   },
   {
    "duration": 2780,
    "start_time": "2021-06-10T21:58:31.860Z"
   },
   {
    "duration": 6,
    "start_time": "2021-06-10T21:58:34.642Z"
   },
   {
    "duration": 23,
    "start_time": "2021-06-10T21:58:34.650Z"
   },
   {
    "duration": 13,
    "start_time": "2021-06-10T21:58:34.676Z"
   },
   {
    "duration": 18,
    "start_time": "2021-06-10T21:58:34.692Z"
   },
   {
    "duration": 115,
    "start_time": "2021-06-10T21:58:34.712Z"
   },
   {
    "duration": 109,
    "start_time": "2021-06-10T21:58:34.830Z"
   },
   {
    "duration": 57,
    "start_time": "2021-06-10T21:58:34.942Z"
   },
   {
    "duration": 30,
    "start_time": "2021-06-10T21:58:35.001Z"
   },
   {
    "duration": 9,
    "start_time": "2021-06-10T21:58:35.034Z"
   },
   {
    "duration": 1485,
    "start_time": "2021-06-10T21:58:35.045Z"
   },
   {
    "duration": 913,
    "start_time": "2021-06-10T21:58:36.538Z"
   },
   {
    "duration": 896,
    "start_time": "2021-06-10T21:58:37.453Z"
   },
   {
    "duration": 34,
    "start_time": "2021-06-10T21:58:38.352Z"
   },
   {
    "duration": 1588,
    "start_time": "2021-06-10T22:03:11.504Z"
   },
   {
    "duration": 3,
    "start_time": "2021-06-10T22:03:13.095Z"
   },
   {
    "duration": 37,
    "start_time": "2021-06-10T22:03:13.101Z"
   },
   {
    "duration": 27,
    "start_time": "2021-06-10T22:03:13.142Z"
   },
   {
    "duration": 4,
    "start_time": "2021-06-10T22:03:13.172Z"
   },
   {
    "duration": 29,
    "start_time": "2021-06-10T22:03:13.179Z"
   },
   {
    "duration": 23,
    "start_time": "2021-06-10T22:03:13.210Z"
   },
   {
    "duration": 26,
    "start_time": "2021-06-10T22:03:13.235Z"
   },
   {
    "duration": 102,
    "start_time": "2021-06-10T22:03:13.265Z"
   },
   {
    "duration": 29,
    "start_time": "2021-06-10T22:03:13.370Z"
   },
   {
    "duration": 29,
    "start_time": "2021-06-10T22:03:13.402Z"
   },
   {
    "duration": 9835,
    "start_time": "2021-06-10T22:03:13.433Z"
   },
   {
    "duration": 2349,
    "start_time": "2021-06-10T22:03:23.271Z"
   },
   {
    "duration": 7,
    "start_time": "2021-06-10T22:03:25.636Z"
   },
   {
    "duration": 12,
    "start_time": "2021-06-10T22:03:25.645Z"
   },
   {
    "duration": 11,
    "start_time": "2021-06-10T22:03:25.659Z"
   },
   {
    "duration": 8,
    "start_time": "2021-06-10T22:03:25.674Z"
   },
   {
    "duration": 140,
    "start_time": "2021-06-10T22:03:25.685Z"
   },
   {
    "duration": 102,
    "start_time": "2021-06-10T22:03:25.828Z"
   },
   {
    "duration": 59,
    "start_time": "2021-06-10T22:03:25.932Z"
   },
   {
    "duration": 31,
    "start_time": "2021-06-10T22:03:25.993Z"
   },
   {
    "duration": 12,
    "start_time": "2021-06-10T22:03:26.029Z"
   },
   {
    "duration": 1389,
    "start_time": "2021-06-10T22:03:26.044Z"
   },
   {
    "duration": 967,
    "start_time": "2021-06-10T22:03:27.436Z"
   },
   {
    "duration": 906,
    "start_time": "2021-06-10T22:03:28.406Z"
   },
   {
    "duration": 34,
    "start_time": "2021-06-10T22:03:29.314Z"
   },
   {
    "duration": 1867,
    "start_time": "2021-06-10T22:03:59.634Z"
   },
   {
    "duration": 4,
    "start_time": "2021-06-10T22:04:01.504Z"
   },
   {
    "duration": 55,
    "start_time": "2021-06-10T22:04:01.511Z"
   },
   {
    "duration": 45,
    "start_time": "2021-06-10T22:04:01.569Z"
   },
   {
    "duration": 35,
    "start_time": "2021-06-10T22:04:01.616Z"
   },
   {
    "duration": 37,
    "start_time": "2021-06-10T22:04:01.653Z"
   },
   {
    "duration": 17,
    "start_time": "2021-06-10T22:04:01.693Z"
   },
   {
    "duration": 33,
    "start_time": "2021-06-10T22:04:01.712Z"
   },
   {
    "duration": 83,
    "start_time": "2021-06-10T22:04:01.749Z"
   },
   {
    "duration": 29,
    "start_time": "2021-06-10T22:04:01.836Z"
   },
   {
    "duration": 8,
    "start_time": "2021-06-10T22:04:01.867Z"
   },
   {
    "duration": 6177,
    "start_time": "2021-06-10T22:04:01.877Z"
   },
   {
    "duration": 2044,
    "start_time": "2021-06-10T22:04:08.056Z"
   },
   {
    "duration": 5,
    "start_time": "2021-06-10T22:04:10.102Z"
   },
   {
    "duration": 29,
    "start_time": "2021-06-10T22:04:10.109Z"
   },
   {
    "duration": 12,
    "start_time": "2021-06-10T22:04:10.145Z"
   },
   {
    "duration": 23,
    "start_time": "2021-06-10T22:04:10.159Z"
   },
   {
    "duration": 70,
    "start_time": "2021-06-10T22:04:10.185Z"
   },
   {
    "duration": 89,
    "start_time": "2021-06-10T22:04:10.258Z"
   },
   {
    "duration": 61,
    "start_time": "2021-06-10T22:04:10.426Z"
   },
   {
    "duration": 40,
    "start_time": "2021-06-10T22:04:10.490Z"
   },
   {
    "duration": 10,
    "start_time": "2021-06-10T22:04:10.533Z"
   },
   {
    "duration": 1692,
    "start_time": "2021-06-10T22:04:10.545Z"
   },
   {
    "duration": 909,
    "start_time": "2021-06-10T22:04:12.239Z"
   },
   {
    "duration": 901,
    "start_time": "2021-06-10T22:04:13.150Z"
   },
   {
    "duration": 24,
    "start_time": "2021-06-10T22:04:14.053Z"
   },
   {
    "duration": 1598,
    "start_time": "2021-06-10T22:05:17.350Z"
   },
   {
    "duration": 4,
    "start_time": "2021-06-10T22:05:18.951Z"
   },
   {
    "duration": 33,
    "start_time": "2021-06-10T22:05:18.957Z"
   },
   {
    "duration": 40,
    "start_time": "2021-06-10T22:05:18.993Z"
   },
   {
    "duration": 5,
    "start_time": "2021-06-10T22:05:19.046Z"
   },
   {
    "duration": 24,
    "start_time": "2021-06-10T22:05:19.053Z"
   },
   {
    "duration": 9,
    "start_time": "2021-06-10T22:05:19.079Z"
   },
   {
    "duration": 22,
    "start_time": "2021-06-10T22:05:19.092Z"
   },
   {
    "duration": 86,
    "start_time": "2021-06-10T22:05:19.117Z"
   },
   {
    "duration": 30,
    "start_time": "2021-06-10T22:05:19.225Z"
   },
   {
    "duration": 8,
    "start_time": "2021-06-10T22:05:19.258Z"
   },
   {
    "duration": 6320,
    "start_time": "2021-06-10T22:05:19.269Z"
   },
   {
    "duration": 2092,
    "start_time": "2021-06-10T22:05:25.591Z"
   },
   {
    "duration": 5,
    "start_time": "2021-06-10T22:05:27.685Z"
   },
   {
    "duration": 32,
    "start_time": "2021-06-10T22:05:27.692Z"
   },
   {
    "duration": 24,
    "start_time": "2021-06-10T22:05:27.728Z"
   },
   {
    "duration": 7,
    "start_time": "2021-06-10T22:05:27.755Z"
   },
   {
    "duration": 162,
    "start_time": "2021-06-10T22:05:27.765Z"
   },
   {
    "duration": 95,
    "start_time": "2021-06-10T22:05:27.929Z"
   },
   {
    "duration": 68,
    "start_time": "2021-06-10T22:05:28.026Z"
   },
   {
    "duration": 35,
    "start_time": "2021-06-10T22:05:28.097Z"
   },
   {
    "duration": 13,
    "start_time": "2021-06-10T22:05:28.134Z"
   },
   {
    "duration": 1487,
    "start_time": "2021-06-10T22:05:28.152Z"
   },
   {
    "duration": 953,
    "start_time": "2021-06-10T22:05:29.642Z"
   },
   {
    "duration": 855,
    "start_time": "2021-06-10T22:05:30.598Z"
   },
   {
    "duration": 25,
    "start_time": "2021-06-10T22:05:31.455Z"
   },
   {
    "duration": 1615,
    "start_time": "2021-06-10T22:08:08.161Z"
   },
   {
    "duration": 3,
    "start_time": "2021-06-10T22:08:09.779Z"
   },
   {
    "duration": 34,
    "start_time": "2021-06-10T22:08:09.786Z"
   },
   {
    "duration": 38,
    "start_time": "2021-06-10T22:08:09.825Z"
   },
   {
    "duration": 4,
    "start_time": "2021-06-10T22:08:09.866Z"
   },
   {
    "duration": 31,
    "start_time": "2021-06-10T22:08:09.873Z"
   },
   {
    "duration": 18,
    "start_time": "2021-06-10T22:08:09.923Z"
   },
   {
    "duration": 25,
    "start_time": "2021-06-10T22:08:09.944Z"
   },
   {
    "duration": 97,
    "start_time": "2021-06-10T22:08:09.973Z"
   },
   {
    "duration": 28,
    "start_time": "2021-06-10T22:08:10.074Z"
   },
   {
    "duration": 32,
    "start_time": "2021-06-10T22:08:10.104Z"
   },
   {
    "duration": 7893,
    "start_time": "2021-06-10T22:08:10.139Z"
   },
   {
    "duration": 2027,
    "start_time": "2021-06-10T22:08:18.034Z"
   },
   {
    "duration": 7,
    "start_time": "2021-06-10T22:08:20.063Z"
   },
   {
    "duration": 12,
    "start_time": "2021-06-10T22:08:20.073Z"
   },
   {
    "duration": 9,
    "start_time": "2021-06-10T22:08:20.088Z"
   },
   {
    "duration": 9,
    "start_time": "2021-06-10T22:08:20.130Z"
   },
   {
    "duration": 83,
    "start_time": "2021-06-10T22:08:20.144Z"
   },
   {
    "duration": 92,
    "start_time": "2021-06-10T22:08:20.234Z"
   },
   {
    "duration": 62,
    "start_time": "2021-06-10T22:08:20.329Z"
   },
   {
    "duration": 34,
    "start_time": "2021-06-10T22:08:20.393Z"
   },
   {
    "duration": 14,
    "start_time": "2021-06-10T22:08:20.432Z"
   },
   {
    "duration": 1880,
    "start_time": "2021-06-10T22:08:20.449Z"
   },
   {
    "duration": 855,
    "start_time": "2021-06-10T22:08:22.331Z"
   },
   {
    "duration": 998,
    "start_time": "2021-06-10T22:08:23.189Z"
   },
   {
    "duration": 38,
    "start_time": "2021-06-10T22:08:24.189Z"
   },
   {
    "duration": 4544,
    "start_time": "2021-06-10T22:08:24.232Z"
   },
   {
    "duration": 23,
    "start_time": "2021-06-10T22:08:28.779Z"
   },
   {
    "duration": 2550,
    "start_time": "2021-06-10T22:10:41.057Z"
   },
   {
    "duration": 1849,
    "start_time": "2021-06-10T22:11:48.039Z"
   },
   {
    "duration": 2862,
    "start_time": "2021-06-10T22:16:39.608Z"
   },
   {
    "duration": 2539,
    "start_time": "2021-06-10T22:17:03.587Z"
   },
   {
    "duration": 2856,
    "start_time": "2021-06-10T22:23:36.322Z"
   },
   {
    "duration": 1798,
    "start_time": "2021-06-10T22:25:22.555Z"
   },
   {
    "duration": 2917,
    "start_time": "2021-06-10T22:25:47.114Z"
   },
   {
    "duration": 1865,
    "start_time": "2021-06-11T10:22:16.769Z"
   },
   {
    "duration": 4,
    "start_time": "2021-06-11T10:22:18.636Z"
   },
   {
    "duration": 34,
    "start_time": "2021-06-11T10:22:18.643Z"
   },
   {
    "duration": 25,
    "start_time": "2021-06-11T10:22:18.680Z"
   },
   {
    "duration": 21,
    "start_time": "2021-06-11T10:22:18.707Z"
   },
   {
    "duration": 28,
    "start_time": "2021-06-11T10:22:18.730Z"
   },
   {
    "duration": 5,
    "start_time": "2021-06-11T10:22:18.761Z"
   },
   {
    "duration": 56,
    "start_time": "2021-06-11T10:22:18.769Z"
   },
   {
    "duration": 96,
    "start_time": "2021-06-11T10:22:18.829Z"
   },
   {
    "duration": 29,
    "start_time": "2021-06-11T10:22:18.928Z"
   },
   {
    "duration": 9,
    "start_time": "2021-06-11T10:22:18.959Z"
   },
   {
    "duration": 6392,
    "start_time": "2021-06-11T10:22:18.971Z"
   },
   {
    "duration": 2104,
    "start_time": "2021-06-11T10:22:25.365Z"
   },
   {
    "duration": 5,
    "start_time": "2021-06-11T10:22:27.471Z"
   },
   {
    "duration": 11,
    "start_time": "2021-06-11T10:22:27.479Z"
   },
   {
    "duration": 40,
    "start_time": "2021-06-11T10:22:27.493Z"
   },
   {
    "duration": 6,
    "start_time": "2021-06-11T10:22:27.536Z"
   },
   {
    "duration": 114,
    "start_time": "2021-06-11T10:22:27.544Z"
   },
   {
    "duration": 103,
    "start_time": "2021-06-11T10:22:27.727Z"
   },
   {
    "duration": 59,
    "start_time": "2021-06-11T10:22:27.833Z"
   },
   {
    "duration": 36,
    "start_time": "2021-06-11T10:22:27.894Z"
   },
   {
    "duration": 8,
    "start_time": "2021-06-11T10:22:27.932Z"
   },
   {
    "duration": 1982,
    "start_time": "2021-06-11T10:22:27.944Z"
   },
   {
    "duration": 775,
    "start_time": "2021-06-11T10:22:29.929Z"
   },
   {
    "duration": 839,
    "start_time": "2021-06-11T10:22:30.706Z"
   },
   {
    "duration": 24,
    "start_time": "2021-06-11T10:22:31.548Z"
   },
   {
    "duration": 1779,
    "start_time": "2021-06-11T10:22:31.575Z"
   },
   {
    "duration": 3062,
    "start_time": "2021-06-11T10:22:33.357Z"
   },
   {
    "duration": 24,
    "start_time": "2021-06-11T10:22:36.421Z"
   },
   {
    "duration": 618,
    "start_time": "2021-06-11T10:47:54.453Z"
   },
   {
    "duration": 385,
    "start_time": "2021-06-11T10:48:35.796Z"
   },
   {
    "duration": 1629,
    "start_time": "2021-06-11T10:48:57.584Z"
   },
   {
    "duration": 3,
    "start_time": "2021-06-11T10:48:59.216Z"
   },
   {
    "duration": 30,
    "start_time": "2021-06-11T10:48:59.227Z"
   },
   {
    "duration": 67,
    "start_time": "2021-06-11T10:48:59.260Z"
   },
   {
    "duration": 5,
    "start_time": "2021-06-11T10:48:59.331Z"
   },
   {
    "duration": 21,
    "start_time": "2021-06-11T10:48:59.339Z"
   },
   {
    "duration": 6,
    "start_time": "2021-06-11T10:48:59.362Z"
   },
   {
    "duration": 71,
    "start_time": "2021-06-11T10:48:59.372Z"
   },
   {
    "duration": 96,
    "start_time": "2021-06-11T10:48:59.446Z"
   },
   {
    "duration": 29,
    "start_time": "2021-06-11T10:48:59.545Z"
   },
   {
    "duration": 8,
    "start_time": "2021-06-11T10:48:59.577Z"
   },
   {
    "duration": 6868,
    "start_time": "2021-06-11T10:48:59.625Z"
   },
   {
    "duration": 2289,
    "start_time": "2021-06-11T10:49:06.496Z"
   },
   {
    "duration": 5,
    "start_time": "2021-06-11T10:49:08.787Z"
   },
   {
    "duration": 9,
    "start_time": "2021-06-11T10:49:08.794Z"
   },
   {
    "duration": 15,
    "start_time": "2021-06-11T10:49:08.805Z"
   },
   {
    "duration": 8,
    "start_time": "2021-06-11T10:49:08.823Z"
   },
   {
    "duration": 96,
    "start_time": "2021-06-11T10:49:08.834Z"
   },
   {
    "duration": 100,
    "start_time": "2021-06-11T10:49:08.933Z"
   },
   {
    "duration": 115,
    "start_time": "2021-06-11T10:49:09.035Z"
   },
   {
    "duration": 12,
    "start_time": "2021-06-11T10:49:09.153Z"
   },
   {
    "duration": 11,
    "start_time": "2021-06-11T10:49:09.168Z"
   },
   {
    "duration": 1745,
    "start_time": "2021-06-11T10:49:09.182Z"
   },
   {
    "duration": 877,
    "start_time": "2021-06-11T10:49:10.930Z"
   },
   {
    "duration": 941,
    "start_time": "2021-06-11T10:49:11.810Z"
   },
   {
    "duration": 25,
    "start_time": "2021-06-11T10:49:12.756Z"
   },
   {
    "duration": 2018,
    "start_time": "2021-06-11T10:49:12.784Z"
   },
   {
    "duration": 3050,
    "start_time": "2021-06-11T10:49:14.804Z"
   },
   {
    "duration": 23,
    "start_time": "2021-06-11T10:49:17.856Z"
   },
   {
    "duration": 553,
    "start_time": "2021-06-11T10:49:17.881Z"
   },
   {
    "duration": 435,
    "start_time": "2021-06-11T10:50:07.563Z"
   },
   {
    "duration": 344,
    "start_time": "2021-06-11T10:50:25.416Z"
   },
   {
    "duration": 366,
    "start_time": "2021-06-11T10:51:22.760Z"
   },
   {
    "duration": 819,
    "start_time": "2021-06-11T10:51:51.075Z"
   },
   {
    "duration": 333,
    "start_time": "2021-06-11T10:57:05.975Z"
   },
   {
    "duration": 376,
    "start_time": "2021-06-11T10:57:37.463Z"
   },
   {
    "duration": 610,
    "start_time": "2021-06-11T11:01:02.935Z"
   },
   {
    "duration": 618,
    "start_time": "2021-06-11T11:01:20.339Z"
   },
   {
    "duration": 4,
    "start_time": "2021-06-11T11:10:50.896Z"
   },
   {
    "duration": 362,
    "start_time": "2021-06-11T11:11:03.306Z"
   },
   {
    "duration": 7,
    "start_time": "2021-06-11T11:11:12.925Z"
   },
   {
    "duration": 7,
    "start_time": "2021-06-11T11:11:25.659Z"
   },
   {
    "duration": 5,
    "start_time": "2021-06-11T11:12:05.710Z"
   },
   {
    "duration": 350,
    "start_time": "2021-06-11T11:12:27.469Z"
   },
   {
    "duration": 351,
    "start_time": "2021-06-11T11:13:40.525Z"
   },
   {
    "duration": 378,
    "start_time": "2021-06-11T11:15:05.463Z"
   },
   {
    "duration": 5,
    "start_time": "2021-06-11T11:15:31.587Z"
   },
   {
    "duration": 366,
    "start_time": "2021-06-11T11:15:57.841Z"
   },
   {
    "duration": 1645,
    "start_time": "2021-06-11T11:16:04.485Z"
   },
   {
    "duration": 5,
    "start_time": "2021-06-11T11:16:06.133Z"
   },
   {
    "duration": 38,
    "start_time": "2021-06-11T11:16:06.142Z"
   },
   {
    "duration": 24,
    "start_time": "2021-06-11T11:16:06.183Z"
   },
   {
    "duration": 19,
    "start_time": "2021-06-11T11:16:06.210Z"
   },
   {
    "duration": 29,
    "start_time": "2021-06-11T11:16:06.233Z"
   },
   {
    "duration": 15,
    "start_time": "2021-06-11T11:16:06.264Z"
   },
   {
    "duration": 44,
    "start_time": "2021-06-11T11:16:06.282Z"
   },
   {
    "duration": 97,
    "start_time": "2021-06-11T11:16:06.330Z"
   },
   {
    "duration": 36,
    "start_time": "2021-06-11T11:16:06.431Z"
   },
   {
    "duration": 10,
    "start_time": "2021-06-11T11:16:06.469Z"
   },
   {
    "duration": 6544,
    "start_time": "2021-06-11T11:16:06.481Z"
   },
   {
    "duration": 2148,
    "start_time": "2021-06-11T11:16:13.028Z"
   },
   {
    "duration": 7,
    "start_time": "2021-06-11T11:16:15.179Z"
   },
   {
    "duration": 10,
    "start_time": "2021-06-11T11:16:15.190Z"
   },
   {
    "duration": 12,
    "start_time": "2021-06-11T11:16:15.226Z"
   },
   {
    "duration": 11,
    "start_time": "2021-06-11T11:16:15.241Z"
   },
   {
    "duration": 95,
    "start_time": "2021-06-11T11:16:15.256Z"
   },
   {
    "duration": 92,
    "start_time": "2021-06-11T11:16:15.355Z"
   },
   {
    "duration": 60,
    "start_time": "2021-06-11T11:16:15.526Z"
   },
   {
    "duration": 49,
    "start_time": "2021-06-11T11:16:15.589Z"
   },
   {
    "duration": 11,
    "start_time": "2021-06-11T11:16:15.641Z"
   },
   {
    "duration": 1770,
    "start_time": "2021-06-11T11:16:15.657Z"
   },
   {
    "duration": 885,
    "start_time": "2021-06-11T11:16:17.430Z"
   },
   {
    "duration": 907,
    "start_time": "2021-06-11T11:16:18.318Z"
   },
   {
    "duration": 29,
    "start_time": "2021-06-11T11:16:19.229Z"
   },
   {
    "duration": 1921,
    "start_time": "2021-06-11T11:16:19.260Z"
   },
   {
    "duration": 3118,
    "start_time": "2021-06-11T11:16:21.184Z"
   },
   {
    "duration": 39,
    "start_time": "2021-06-11T11:16:24.305Z"
   },
   {
    "duration": 4,
    "start_time": "2021-06-11T11:16:24.348Z"
   },
   {
    "duration": 8,
    "start_time": "2021-06-11T11:16:24.354Z"
   },
   {
    "duration": 8,
    "start_time": "2021-06-11T11:16:24.365Z"
   },
   {
    "duration": 6,
    "start_time": "2021-06-11T11:16:24.375Z"
   },
   {
    "duration": 252,
    "start_time": "2021-06-11T11:16:24.429Z"
   },
   {
    "duration": 6,
    "start_time": "2021-06-11T11:17:51.831Z"
   },
   {
    "duration": 282,
    "start_time": "2021-06-11T11:18:00.694Z"
   },
   {
    "duration": 10,
    "start_time": "2021-06-11T11:19:00.522Z"
   },
   {
    "duration": 839,
    "start_time": "2021-06-11T11:19:13.144Z"
   },
   {
    "duration": 150082,
    "start_time": "2021-06-11T11:19:25.058Z"
   },
   {
    "duration": 9,
    "start_time": "2021-06-11T11:27:33.682Z"
   },
   {
    "duration": 10229,
    "start_time": "2021-06-11T11:27:57.645Z"
   },
   {
    "duration": 7314,
    "start_time": "2021-06-11T11:28:19.278Z"
   },
   {
    "duration": 9,
    "start_time": "2021-06-11T11:36:14.192Z"
   },
   {
    "duration": 6721,
    "start_time": "2021-06-11T11:36:15.459Z"
   },
   {
    "duration": 6841,
    "start_time": "2021-06-11T11:36:36.936Z"
   },
   {
    "duration": 9,
    "start_time": "2021-06-11T11:40:11.352Z"
   },
   {
    "duration": 6742,
    "start_time": "2021-06-11T11:40:13.061Z"
   },
   {
    "duration": 9,
    "start_time": "2021-06-11T11:42:42.215Z"
   },
   {
    "duration": 6783,
    "start_time": "2021-06-11T11:42:45.042Z"
   },
   {
    "duration": 9215,
    "start_time": "2021-06-11T11:43:12.184Z"
   },
   {
    "duration": 1715,
    "start_time": "2021-06-11T11:47:22.792Z"
   },
   {
    "duration": 4,
    "start_time": "2021-06-11T11:47:24.510Z"
   },
   {
    "duration": 31,
    "start_time": "2021-06-11T11:47:24.528Z"
   },
   {
    "duration": 36,
    "start_time": "2021-06-11T11:47:24.562Z"
   },
   {
    "duration": 5,
    "start_time": "2021-06-11T11:47:24.624Z"
   },
   {
    "duration": 27,
    "start_time": "2021-06-11T11:47:24.634Z"
   },
   {
    "duration": 7,
    "start_time": "2021-06-11T11:47:24.664Z"
   },
   {
    "duration": 58,
    "start_time": "2021-06-11T11:47:24.675Z"
   },
   {
    "duration": 99,
    "start_time": "2021-06-11T11:47:24.737Z"
   },
   {
    "duration": 32,
    "start_time": "2021-06-11T11:47:24.838Z"
   },
   {
    "duration": 9,
    "start_time": "2021-06-11T11:47:24.872Z"
   },
   {
    "duration": 46,
    "start_time": "2021-06-11T11:47:24.883Z"
   },
   {
    "duration": 6616,
    "start_time": "2021-06-11T11:47:24.932Z"
   },
   {
    "duration": 2172,
    "start_time": "2021-06-11T11:47:31.550Z"
   },
   {
    "duration": 8,
    "start_time": "2021-06-11T11:47:33.727Z"
   },
   {
    "duration": 10,
    "start_time": "2021-06-11T11:47:33.740Z"
   },
   {
    "duration": 12,
    "start_time": "2021-06-11T11:47:33.753Z"
   },
   {
    "duration": 65,
    "start_time": "2021-06-11T11:47:33.768Z"
   },
   {
    "duration": 95,
    "start_time": "2021-06-11T11:47:33.836Z"
   },
   {
    "duration": 231,
    "start_time": "2021-06-11T11:47:33.934Z"
   },
   {
    "duration": 94,
    "start_time": "2021-06-11T11:47:34.169Z"
   },
   {
    "duration": 15,
    "start_time": "2021-06-11T11:47:34.266Z"
   },
   {
    "duration": 39,
    "start_time": "2021-06-11T11:47:34.286Z"
   },
   {
    "duration": 1708,
    "start_time": "2021-06-11T11:47:34.328Z"
   },
   {
    "duration": 916,
    "start_time": "2021-06-11T11:47:36.039Z"
   },
   {
    "duration": 931,
    "start_time": "2021-06-11T11:47:36.958Z"
   },
   {
    "duration": 41,
    "start_time": "2021-06-11T11:47:37.892Z"
   },
   {
    "duration": 9091,
    "start_time": "2021-06-11T11:47:37.935Z"
   },
   {
    "duration": 27,
    "start_time": "2021-06-11T11:47:47.030Z"
   },
   {
    "duration": 6,
    "start_time": "2021-06-11T11:47:47.060Z"
   },
   {
    "duration": 57,
    "start_time": "2021-06-11T11:47:47.071Z"
   },
   {
    "duration": 12,
    "start_time": "2021-06-11T11:47:47.132Z"
   },
   {
    "duration": 6,
    "start_time": "2021-06-11T11:47:47.148Z"
   },
   {
    "duration": 312,
    "start_time": "2021-06-11T11:47:47.157Z"
   },
   {
    "duration": 562,
    "start_time": "2021-06-11T11:48:43.644Z"
   },
   {
    "duration": 12,
    "start_time": "2021-06-11T11:48:52.949Z"
   },
   {
    "duration": 14,
    "start_time": "2021-06-11T11:50:11.665Z"
   },
   {
    "duration": 29,
    "start_time": "2021-06-11T11:51:23.114Z"
   },
   {
    "duration": 41,
    "start_time": "2021-06-11T11:51:31.923Z"
   },
   {
    "duration": 32,
    "start_time": "2021-06-11T11:52:30.322Z"
   },
   {
    "duration": 27,
    "start_time": "2021-06-11T11:54:16.096Z"
   },
   {
    "duration": 6,
    "start_time": "2021-06-11T12:51:54.566Z"
   },
   {
    "duration": 5,
    "start_time": "2021-06-11T12:52:28.574Z"
   },
   {
    "duration": 6,
    "start_time": "2021-06-11T12:54:59.067Z"
   },
   {
    "duration": 286,
    "start_time": "2021-06-11T12:55:33.201Z"
   },
   {
    "duration": 1816,
    "start_time": "2021-06-11T13:08:58.586Z"
   },
   {
    "duration": 20,
    "start_time": "2021-06-11T13:09:00.405Z"
   },
   {
    "duration": 31,
    "start_time": "2021-06-11T13:09:00.430Z"
   },
   {
    "duration": 28,
    "start_time": "2021-06-11T13:09:00.464Z"
   },
   {
    "duration": 29,
    "start_time": "2021-06-11T13:09:00.496Z"
   },
   {
    "duration": 32,
    "start_time": "2021-06-11T13:09:00.528Z"
   },
   {
    "duration": 18,
    "start_time": "2021-06-11T13:09:00.563Z"
   },
   {
    "duration": 28,
    "start_time": "2021-06-11T13:09:00.583Z"
   },
   {
    "duration": 91,
    "start_time": "2021-06-11T13:09:00.614Z"
   },
   {
    "duration": 54,
    "start_time": "2021-06-11T13:09:00.708Z"
   },
   {
    "duration": 10,
    "start_time": "2021-06-11T13:09:00.765Z"
   },
   {
    "duration": 51,
    "start_time": "2021-06-11T13:09:00.778Z"
   },
   {
    "duration": 6296,
    "start_time": "2021-06-11T13:09:00.832Z"
   },
   {
    "duration": 2186,
    "start_time": "2021-06-11T13:09:07.130Z"
   },
   {
    "duration": 5,
    "start_time": "2021-06-11T13:09:09.326Z"
   },
   {
    "duration": 15,
    "start_time": "2021-06-11T13:09:09.333Z"
   },
   {
    "duration": 12,
    "start_time": "2021-06-11T13:09:09.351Z"
   },
   {
    "duration": 61,
    "start_time": "2021-06-11T13:09:09.366Z"
   },
   {
    "duration": 48,
    "start_time": "2021-06-11T13:09:09.430Z"
   },
   {
    "duration": 310,
    "start_time": "2021-06-11T13:09:09.481Z"
   },
   {
    "duration": 103,
    "start_time": "2021-06-11T13:09:09.794Z"
   },
   {
    "duration": 27,
    "start_time": "2021-06-11T13:09:09.900Z"
   },
   {
    "duration": 6,
    "start_time": "2021-06-11T13:09:09.931Z"
   },
   {
    "duration": 9,
    "start_time": "2021-06-11T13:09:09.940Z"
   },
   {
    "duration": 330,
    "start_time": "2021-06-11T13:09:09.953Z"
   },
   {
    "duration": 8,
    "start_time": "2021-06-11T13:09:10.285Z"
   },
   {
    "duration": 1729,
    "start_time": "2021-06-11T13:09:10.297Z"
   },
   {
    "duration": 969,
    "start_time": "2021-06-11T13:09:12.029Z"
   },
   {
    "duration": 913,
    "start_time": "2021-06-11T13:09:13.001Z"
   },
   {
    "duration": 35,
    "start_time": "2021-06-11T13:09:13.917Z"
   },
   {
    "duration": 9207,
    "start_time": "2021-06-11T13:09:13.954Z"
   },
   {
    "duration": 15,
    "start_time": "2021-06-11T13:09:23.164Z"
   },
   {
    "duration": 2302,
    "start_time": "2021-06-11T14:43:22.627Z"
   },
   {
    "duration": 4,
    "start_time": "2021-06-11T14:43:24.932Z"
   },
   {
    "duration": 25,
    "start_time": "2021-06-11T14:43:24.945Z"
   },
   {
    "duration": 54,
    "start_time": "2021-06-11T14:43:24.973Z"
   },
   {
    "duration": 5,
    "start_time": "2021-06-11T14:43:25.029Z"
   },
   {
    "duration": 22,
    "start_time": "2021-06-11T14:43:25.036Z"
   },
   {
    "duration": 6,
    "start_time": "2021-06-11T14:43:25.060Z"
   },
   {
    "duration": 63,
    "start_time": "2021-06-11T14:43:25.071Z"
   },
   {
    "duration": 95,
    "start_time": "2021-06-11T14:43:25.138Z"
   },
   {
    "duration": 29,
    "start_time": "2021-06-11T14:43:25.235Z"
   },
   {
    "duration": 9,
    "start_time": "2021-06-11T14:43:25.266Z"
   },
   {
    "duration": 10,
    "start_time": "2021-06-11T14:43:25.277Z"
   },
   {
    "duration": 9608,
    "start_time": "2021-06-11T14:43:25.327Z"
   },
   {
    "duration": 3116,
    "start_time": "2021-06-11T14:43:34.938Z"
   },
   {
    "duration": 7,
    "start_time": "2021-06-11T14:43:38.058Z"
   },
   {
    "duration": 13,
    "start_time": "2021-06-11T14:43:38.068Z"
   },
   {
    "duration": 51,
    "start_time": "2021-06-11T14:43:38.084Z"
   },
   {
    "duration": 10,
    "start_time": "2021-06-11T14:43:38.138Z"
   },
   {
    "duration": 184,
    "start_time": "2021-06-11T14:43:38.152Z"
   },
   {
    "duration": 306,
    "start_time": "2021-06-11T14:43:38.341Z"
   },
   {
    "duration": 114,
    "start_time": "2021-06-11T14:43:38.650Z"
   },
   {
    "duration": 17,
    "start_time": "2021-06-11T14:43:38.768Z"
   },
   {
    "duration": 7,
    "start_time": "2021-06-11T14:43:38.788Z"
   },
   {
    "duration": 6,
    "start_time": "2021-06-11T14:43:38.827Z"
   },
   {
    "duration": 290,
    "start_time": "2021-06-11T14:43:38.836Z"
   },
   {
    "duration": 8,
    "start_time": "2021-06-11T14:43:39.132Z"
   },
   {
    "duration": 1987,
    "start_time": "2021-06-11T14:43:39.143Z"
   },
   {
    "duration": 824,
    "start_time": "2021-06-11T14:43:41.132Z"
   },
   {
    "duration": 914,
    "start_time": "2021-06-11T14:43:41.959Z"
   },
   {
    "duration": 26,
    "start_time": "2021-06-11T14:43:42.875Z"
   },
   {
    "duration": 8723,
    "start_time": "2021-06-11T14:43:42.904Z"
   },
   {
    "duration": 14,
    "start_time": "2021-06-11T14:43:51.629Z"
   },
   {
    "duration": 2008,
    "start_time": "2021-06-11T18:49:29.220Z"
   },
   {
    "duration": 4,
    "start_time": "2021-06-11T18:49:31.231Z"
   },
   {
    "duration": 46,
    "start_time": "2021-06-11T18:49:31.239Z"
   },
   {
    "duration": 37,
    "start_time": "2021-06-11T18:49:31.289Z"
   },
   {
    "duration": 5,
    "start_time": "2021-06-11T18:49:31.329Z"
   },
   {
    "duration": 32,
    "start_time": "2021-06-11T18:49:31.337Z"
   },
   {
    "duration": 31,
    "start_time": "2021-06-11T18:49:31.373Z"
   },
   {
    "duration": 26,
    "start_time": "2021-06-11T18:49:31.409Z"
   },
   {
    "duration": 99,
    "start_time": "2021-06-11T18:49:31.438Z"
   },
   {
    "duration": 29,
    "start_time": "2021-06-11T18:49:31.539Z"
   },
   {
    "duration": 35,
    "start_time": "2021-06-11T18:49:31.570Z"
   },
   {
    "duration": 10,
    "start_time": "2021-06-11T18:49:31.608Z"
   },
   {
    "duration": 5944,
    "start_time": "2021-06-11T18:49:31.622Z"
   },
   {
    "duration": 2061,
    "start_time": "2021-06-11T18:49:37.569Z"
   },
   {
    "duration": 6,
    "start_time": "2021-06-11T18:49:39.632Z"
   },
   {
    "duration": 10,
    "start_time": "2021-06-11T18:49:39.640Z"
   },
   {
    "duration": 9,
    "start_time": "2021-06-11T18:49:39.653Z"
   },
   {
    "duration": 42,
    "start_time": "2021-06-11T18:49:39.664Z"
   },
   {
    "duration": 94,
    "start_time": "2021-06-11T18:49:39.710Z"
   },
   {
    "duration": 226,
    "start_time": "2021-06-11T18:49:39.808Z"
   },
   {
    "duration": 75,
    "start_time": "2021-06-11T18:49:40.036Z"
   },
   {
    "duration": 11,
    "start_time": "2021-06-11T18:49:40.113Z"
   },
   {
    "duration": 5,
    "start_time": "2021-06-11T18:49:40.128Z"
   },
   {
    "duration": 5,
    "start_time": "2021-06-11T18:49:40.136Z"
   },
   {
    "duration": 308,
    "start_time": "2021-06-11T18:49:40.144Z"
   },
   {
    "duration": 7,
    "start_time": "2021-06-11T18:49:40.455Z"
   },
   {
    "duration": 1945,
    "start_time": "2021-06-11T18:49:40.465Z"
   },
   {
    "duration": 902,
    "start_time": "2021-06-11T18:49:42.412Z"
   },
   {
    "duration": 911,
    "start_time": "2021-06-11T18:49:43.317Z"
   },
   {
    "duration": 25,
    "start_time": "2021-06-11T18:49:44.230Z"
   },
   {
    "duration": 8630,
    "start_time": "2021-06-11T18:49:44.257Z"
   },
   {
    "duration": 29,
    "start_time": "2021-06-11T18:49:52.889Z"
   },
   {
    "duration": 1584,
    "start_time": "2021-06-11T19:07:54.636Z"
   },
   {
    "duration": 4,
    "start_time": "2021-06-11T19:07:56.224Z"
   },
   {
    "duration": 30,
    "start_time": "2021-06-11T19:07:56.232Z"
   },
   {
    "duration": 48,
    "start_time": "2021-06-11T19:07:56.266Z"
   },
   {
    "duration": 5,
    "start_time": "2021-06-11T19:07:56.317Z"
   },
   {
    "duration": 23,
    "start_time": "2021-06-11T19:07:56.325Z"
   },
   {
    "duration": 8,
    "start_time": "2021-06-11T19:07:56.351Z"
   },
   {
    "duration": 55,
    "start_time": "2021-06-11T19:07:56.364Z"
   },
   {
    "duration": 93,
    "start_time": "2021-06-11T19:07:56.422Z"
   },
   {
    "duration": 34,
    "start_time": "2021-06-11T19:07:56.520Z"
   },
   {
    "duration": 9,
    "start_time": "2021-06-11T19:07:56.557Z"
   },
   {
    "duration": 33,
    "start_time": "2021-06-11T19:07:56.568Z"
   },
   {
    "duration": 9302,
    "start_time": "2021-06-11T19:07:56.604Z"
   },
   {
    "duration": 2928,
    "start_time": "2021-06-11T19:08:05.910Z"
   },
   {
    "duration": 6,
    "start_time": "2021-06-11T19:08:08.841Z"
   },
   {
    "duration": 13,
    "start_time": "2021-06-11T19:08:08.850Z"
   },
   {
    "duration": 40,
    "start_time": "2021-06-11T19:08:08.866Z"
   },
   {
    "duration": 9,
    "start_time": "2021-06-11T19:08:08.909Z"
   },
   {
    "duration": 79,
    "start_time": "2021-06-11T19:08:08.922Z"
   },
   {
    "duration": 258,
    "start_time": "2021-06-11T19:08:09.009Z"
   },
   {
    "duration": 75,
    "start_time": "2021-06-11T19:08:09.269Z"
   },
   {
    "duration": 10,
    "start_time": "2021-06-11T19:08:09.347Z"
   },
   {
    "duration": 6,
    "start_time": "2021-06-11T19:08:09.361Z"
   },
   {
    "duration": 31,
    "start_time": "2021-06-11T19:08:09.370Z"
   },
   {
    "duration": 255,
    "start_time": "2021-06-11T19:08:09.405Z"
   },
   {
    "duration": 43,
    "start_time": "2021-06-11T19:08:09.663Z"
   },
   {
    "duration": 1916,
    "start_time": "2021-06-11T19:08:09.709Z"
   },
   {
    "duration": 920,
    "start_time": "2021-06-11T19:08:11.632Z"
   },
   {
    "duration": 936,
    "start_time": "2021-06-11T19:08:12.555Z"
   },
   {
    "duration": 33,
    "start_time": "2021-06-11T19:08:13.501Z"
   },
   {
    "duration": 9052,
    "start_time": "2021-06-11T19:08:13.536Z"
   },
   {
    "duration": 15,
    "start_time": "2021-06-11T19:08:22.591Z"
   },
   {
    "duration": 9,
    "start_time": "2021-06-11T19:08:54.855Z"
   },
   {
    "duration": 6983,
    "start_time": "2021-06-11T19:08:57.984Z"
   },
   {
    "duration": 151,
    "start_time": "2021-06-11T19:09:19.290Z"
   },
   {
    "duration": 7395,
    "start_time": "2021-06-11T19:09:21.201Z"
   },
   {
    "duration": 10,
    "start_time": "2021-06-11T19:09:38.444Z"
   },
   {
    "duration": 6686,
    "start_time": "2021-06-11T19:09:39.263Z"
   },
   {
    "duration": 1514,
    "start_time": "2021-06-11T19:11:45.542Z"
   },
   {
    "duration": 3,
    "start_time": "2021-06-11T19:11:47.059Z"
   },
   {
    "duration": 36,
    "start_time": "2021-06-11T19:11:47.065Z"
   },
   {
    "duration": 26,
    "start_time": "2021-06-11T19:11:47.104Z"
   },
   {
    "duration": 4,
    "start_time": "2021-06-11T19:11:47.132Z"
   },
   {
    "duration": 19,
    "start_time": "2021-06-11T19:11:47.138Z"
   },
   {
    "duration": 6,
    "start_time": "2021-06-11T19:11:47.160Z"
   },
   {
    "duration": 22,
    "start_time": "2021-06-11T19:11:47.201Z"
   },
   {
    "duration": 95,
    "start_time": "2021-06-11T19:11:47.227Z"
   },
   {
    "duration": 28,
    "start_time": "2021-06-11T19:11:47.325Z"
   },
   {
    "duration": 9,
    "start_time": "2021-06-11T19:11:47.355Z"
   },
   {
    "duration": 36,
    "start_time": "2021-06-11T19:11:47.367Z"
   },
   {
    "duration": 5849,
    "start_time": "2021-06-11T19:11:47.406Z"
   },
   {
    "duration": 3019,
    "start_time": "2021-06-11T19:11:53.258Z"
   },
   {
    "duration": 7,
    "start_time": "2021-06-11T19:11:56.281Z"
   },
   {
    "duration": 10,
    "start_time": "2021-06-11T19:11:56.302Z"
   },
   {
    "duration": 12,
    "start_time": "2021-06-11T19:11:56.315Z"
   },
   {
    "duration": 9,
    "start_time": "2021-06-11T19:11:56.330Z"
   },
   {
    "duration": 101,
    "start_time": "2021-06-11T19:11:56.342Z"
   },
   {
    "duration": 239,
    "start_time": "2021-06-11T19:11:56.502Z"
   },
   {
    "duration": 76,
    "start_time": "2021-06-11T19:11:56.744Z"
   },
   {
    "duration": 14,
    "start_time": "2021-06-11T19:11:56.823Z"
   },
   {
    "duration": 6,
    "start_time": "2021-06-11T19:11:56.843Z"
   },
   {
    "duration": 7,
    "start_time": "2021-06-11T19:11:56.852Z"
   },
   {
    "duration": 292,
    "start_time": "2021-06-11T19:11:56.861Z"
   },
   {
    "duration": 8,
    "start_time": "2021-06-11T19:11:57.156Z"
   },
   {
    "duration": 1844,
    "start_time": "2021-06-11T19:11:57.167Z"
   },
   {
    "duration": 805,
    "start_time": "2021-06-11T19:11:59.102Z"
   },
   {
    "duration": 881,
    "start_time": "2021-06-11T19:11:59.910Z"
   },
   {
    "duration": 29,
    "start_time": "2021-06-11T19:12:00.794Z"
   },
   {
    "duration": 8361,
    "start_time": "2021-06-11T19:12:00.826Z"
   },
   {
    "duration": 19,
    "start_time": "2021-06-11T19:12:09.212Z"
   },
   {
    "duration": 1446,
    "start_time": "2021-06-12T10:48:05.638Z"
   },
   {
    "duration": 3,
    "start_time": "2021-06-12T10:48:07.087Z"
   },
   {
    "duration": 31,
    "start_time": "2021-06-12T10:48:07.094Z"
   },
   {
    "duration": 34,
    "start_time": "2021-06-12T10:48:07.128Z"
   },
   {
    "duration": 4,
    "start_time": "2021-06-12T10:48:07.165Z"
   },
   {
    "duration": 21,
    "start_time": "2021-06-12T10:48:07.172Z"
   },
   {
    "duration": 6,
    "start_time": "2021-06-12T10:48:07.196Z"
   },
   {
    "duration": 62,
    "start_time": "2021-06-12T10:48:07.204Z"
   },
   {
    "duration": 69,
    "start_time": "2021-06-12T10:48:07.269Z"
   },
   {
    "duration": 26,
    "start_time": "2021-06-12T10:48:07.357Z"
   },
   {
    "duration": 9,
    "start_time": "2021-06-12T10:48:07.385Z"
   },
   {
    "duration": 8,
    "start_time": "2021-06-12T10:48:07.396Z"
   },
   {
    "duration": 5520,
    "start_time": "2021-06-12T10:48:07.407Z"
   },
   {
    "duration": 1973,
    "start_time": "2021-06-12T10:48:12.929Z"
   },
   {
    "duration": 5,
    "start_time": "2021-06-12T10:48:14.905Z"
   },
   {
    "duration": 9,
    "start_time": "2021-06-12T10:48:14.914Z"
   },
   {
    "duration": 39,
    "start_time": "2021-06-12T10:48:14.925Z"
   },
   {
    "duration": 6,
    "start_time": "2021-06-12T10:48:14.967Z"
   },
   {
    "duration": 87,
    "start_time": "2021-06-12T10:48:14.976Z"
   },
   {
    "duration": 145,
    "start_time": "2021-06-12T10:48:15.156Z"
   },
   {
    "duration": 69,
    "start_time": "2021-06-12T10:48:15.303Z"
   },
   {
    "duration": 10,
    "start_time": "2021-06-12T10:48:15.375Z"
   },
   {
    "duration": 7,
    "start_time": "2021-06-12T10:48:15.387Z"
   },
   {
    "duration": 6,
    "start_time": "2021-06-12T10:48:15.396Z"
   },
   {
    "duration": 326,
    "start_time": "2021-06-12T10:48:15.405Z"
   },
   {
    "duration": 22,
    "start_time": "2021-06-12T10:48:15.734Z"
   },
   {
    "duration": 2001,
    "start_time": "2021-06-12T10:48:15.762Z"
   },
   {
    "duration": 1193,
    "start_time": "2021-06-12T10:48:17.766Z"
   },
   {
    "duration": 1194,
    "start_time": "2021-06-12T10:48:18.962Z"
   },
   {
    "duration": 37,
    "start_time": "2021-06-12T10:48:20.159Z"
   },
   {
    "duration": 7826,
    "start_time": "2021-06-12T10:48:20.199Z"
   },
   {
    "duration": 14,
    "start_time": "2021-06-12T10:48:28.027Z"
   }
  ],
  "kernelspec": {
   "display_name": "Python 3",
   "language": "python",
   "name": "python3"
  },
  "language_info": {
   "codemirror_mode": {
    "name": "ipython",
    "version": 3
   },
   "file_extension": ".py",
   "mimetype": "text/x-python",
   "name": "python",
   "nbconvert_exporter": "python",
   "pygments_lexer": "ipython3",
   "version": "3.8.5"
  },
  "toc": {
   "base_numbering": 1,
   "nav_menu": {},
   "number_sections": true,
   "sideBar": true,
   "skip_h1_title": true,
   "title_cell": "Table of Contents",
   "title_sidebar": "Contents",
   "toc_cell": false,
   "toc_position": {},
   "toc_section_display": true,
   "toc_window_display": false
  }
 },
 "nbformat": 4,
 "nbformat_minor": 2
}
